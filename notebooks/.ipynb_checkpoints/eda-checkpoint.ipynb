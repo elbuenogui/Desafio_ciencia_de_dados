{
 "cells": [
  {
   "cell_type": "markdown",
   "metadata": {},
   "source": [
    "# Análise Exploratória de Dados (EDA)\n",
    "\n",
    "Este notebook realiza uma Análise Exploratória de Dados (EDA) no dataset de aluguéis temporários em Nova York, obtidos no drive do desafio de ciência de dados. Os principais objetivos são:\n",
    "\n",
    "1. Compreender a estrutura dos dados.\n",
    "2. Identificar e tratar valores ausentes e inconsistências.\n",
    "3. Explorar relações entre variáveis relevantes.\n",
    "4. Gerar insights iniciais para a modelagem de preços.\n"
   ]
  },
  {
   "cell_type": "markdown",
   "metadata": {},
   "source": [
    "#### Setup"
   ]
  },
  {
   "cell_type": "markdown",
   "metadata": {},
   "source": [
    "Essa etapa importa as bibliotecas e carrega os dados que serão utilizados"
   ]
  },
  {
   "cell_type": "code",
   "execution_count": 1,
   "metadata": {
    "scrolled": true
   },
   "outputs": [],
   "source": [
    "# Importar as bibliotecas\n",
    "import pandas as pd\n",
    "import os\n",
    "import numpy as np\n",
    "import matplotlib.pyplot as plt\n",
    "import seaborn as sns\n"
   ]
  },
  {
   "cell_type": "code",
   "execution_count": 2,
   "metadata": {},
   "outputs": [],
   "source": [
    "# Carregar o dataset \"sujo\", original\n",
    "file_path = os.path.join('..', 'data', 'dirty_dataset.csv')\n",
    "df = pd.read_csv(file_path)\n",
    "\n",
    "# Carregar o dataset \"limpo\", será modificado\n",
    "file_path2 = os.path.join('..', 'data', 'clean_dataset.csv')\n",
    "dataset = pd.read_csv(file_path2)"
   ]
  },
  {
   "cell_type": "markdown",
   "metadata": {},
   "source": [
    "#### Visualizando o dataset"
   ]
  },
  {
   "cell_type": "markdown",
   "metadata": {},
   "source": [
    "Essa etapa disponibiliza uma amostra dos dados do dataset"
   ]
  },
  {
   "cell_type": "code",
   "execution_count": 3,
   "metadata": {
    "scrolled": true
   },
   "outputs": [
    {
     "data": {
      "text/html": [
       "<div>\n",
       "<style scoped>\n",
       "    .dataframe tbody tr th:only-of-type {\n",
       "        vertical-align: middle;\n",
       "    }\n",
       "\n",
       "    .dataframe tbody tr th {\n",
       "        vertical-align: top;\n",
       "    }\n",
       "\n",
       "    .dataframe thead th {\n",
       "        text-align: right;\n",
       "    }\n",
       "</style>\n",
       "<table border=\"1\" class=\"dataframe\">\n",
       "  <thead>\n",
       "    <tr style=\"text-align: right;\">\n",
       "      <th></th>\n",
       "      <th>id</th>\n",
       "      <th>nome</th>\n",
       "      <th>host_id</th>\n",
       "      <th>host_name</th>\n",
       "      <th>bairro_group</th>\n",
       "      <th>bairro</th>\n",
       "      <th>latitude</th>\n",
       "      <th>longitude</th>\n",
       "      <th>room_type</th>\n",
       "      <th>price</th>\n",
       "      <th>minimo_noites</th>\n",
       "      <th>numero_de_reviews</th>\n",
       "      <th>ultima_review</th>\n",
       "      <th>reviews_por_mes</th>\n",
       "      <th>calculado_host_listings_count</th>\n",
       "      <th>disponibilidade_365</th>\n",
       "    </tr>\n",
       "  </thead>\n",
       "  <tbody>\n",
       "    <tr>\n",
       "      <th>0</th>\n",
       "      <td>2595</td>\n",
       "      <td>Skylit Midtown Castle</td>\n",
       "      <td>2845</td>\n",
       "      <td>Jennifer</td>\n",
       "      <td>Manhattan</td>\n",
       "      <td>Midtown</td>\n",
       "      <td>40.75362</td>\n",
       "      <td>-73.98377</td>\n",
       "      <td>Entire home/apt</td>\n",
       "      <td>225</td>\n",
       "      <td>1</td>\n",
       "      <td>45</td>\n",
       "      <td>2019-05-21</td>\n",
       "      <td>0.38</td>\n",
       "      <td>2</td>\n",
       "      <td>355</td>\n",
       "    </tr>\n",
       "    <tr>\n",
       "      <th>1</th>\n",
       "      <td>3647</td>\n",
       "      <td>THE VILLAGE OF HARLEM....NEW YORK !</td>\n",
       "      <td>4632</td>\n",
       "      <td>Elisabeth</td>\n",
       "      <td>Manhattan</td>\n",
       "      <td>Harlem</td>\n",
       "      <td>40.80902</td>\n",
       "      <td>-73.94190</td>\n",
       "      <td>Private room</td>\n",
       "      <td>150</td>\n",
       "      <td>3</td>\n",
       "      <td>0</td>\n",
       "      <td>NaN</td>\n",
       "      <td>NaN</td>\n",
       "      <td>1</td>\n",
       "      <td>365</td>\n",
       "    </tr>\n",
       "    <tr>\n",
       "      <th>2</th>\n",
       "      <td>3831</td>\n",
       "      <td>Cozy Entire Floor of Brownstone</td>\n",
       "      <td>4869</td>\n",
       "      <td>LisaRoxanne</td>\n",
       "      <td>Brooklyn</td>\n",
       "      <td>Clinton Hill</td>\n",
       "      <td>40.68514</td>\n",
       "      <td>-73.95976</td>\n",
       "      <td>Entire home/apt</td>\n",
       "      <td>89</td>\n",
       "      <td>1</td>\n",
       "      <td>270</td>\n",
       "      <td>2019-07-05</td>\n",
       "      <td>4.64</td>\n",
       "      <td>1</td>\n",
       "      <td>194</td>\n",
       "    </tr>\n",
       "    <tr>\n",
       "      <th>3</th>\n",
       "      <td>5022</td>\n",
       "      <td>Entire Apt: Spacious Studio/Loft by central park</td>\n",
       "      <td>7192</td>\n",
       "      <td>Laura</td>\n",
       "      <td>Manhattan</td>\n",
       "      <td>East Harlem</td>\n",
       "      <td>40.79851</td>\n",
       "      <td>-73.94399</td>\n",
       "      <td>Entire home/apt</td>\n",
       "      <td>80</td>\n",
       "      <td>10</td>\n",
       "      <td>9</td>\n",
       "      <td>2018-11-19</td>\n",
       "      <td>0.10</td>\n",
       "      <td>1</td>\n",
       "      <td>0</td>\n",
       "    </tr>\n",
       "    <tr>\n",
       "      <th>4</th>\n",
       "      <td>5099</td>\n",
       "      <td>Large Cozy 1 BR Apartment In Midtown East</td>\n",
       "      <td>7322</td>\n",
       "      <td>Chris</td>\n",
       "      <td>Manhattan</td>\n",
       "      <td>Murray Hill</td>\n",
       "      <td>40.74767</td>\n",
       "      <td>-73.97500</td>\n",
       "      <td>Entire home/apt</td>\n",
       "      <td>200</td>\n",
       "      <td>3</td>\n",
       "      <td>74</td>\n",
       "      <td>2019-06-22</td>\n",
       "      <td>0.59</td>\n",
       "      <td>1</td>\n",
       "      <td>129</td>\n",
       "    </tr>\n",
       "    <tr>\n",
       "      <th>...</th>\n",
       "      <td>...</td>\n",
       "      <td>...</td>\n",
       "      <td>...</td>\n",
       "      <td>...</td>\n",
       "      <td>...</td>\n",
       "      <td>...</td>\n",
       "      <td>...</td>\n",
       "      <td>...</td>\n",
       "      <td>...</td>\n",
       "      <td>...</td>\n",
       "      <td>...</td>\n",
       "      <td>...</td>\n",
       "      <td>...</td>\n",
       "      <td>...</td>\n",
       "      <td>...</td>\n",
       "      <td>...</td>\n",
       "    </tr>\n",
       "    <tr>\n",
       "      <th>48889</th>\n",
       "      <td>36484665</td>\n",
       "      <td>Charming one bedroom - newly renovated rowhouse</td>\n",
       "      <td>8232441</td>\n",
       "      <td>Sabrina</td>\n",
       "      <td>Brooklyn</td>\n",
       "      <td>Bedford-Stuyvesant</td>\n",
       "      <td>40.67853</td>\n",
       "      <td>-73.94995</td>\n",
       "      <td>Private room</td>\n",
       "      <td>70</td>\n",
       "      <td>2</td>\n",
       "      <td>0</td>\n",
       "      <td>NaN</td>\n",
       "      <td>NaN</td>\n",
       "      <td>2</td>\n",
       "      <td>9</td>\n",
       "    </tr>\n",
       "    <tr>\n",
       "      <th>48890</th>\n",
       "      <td>36485057</td>\n",
       "      <td>Affordable room in Bushwick/East Williamsburg</td>\n",
       "      <td>6570630</td>\n",
       "      <td>Marisol</td>\n",
       "      <td>Brooklyn</td>\n",
       "      <td>Bushwick</td>\n",
       "      <td>40.70184</td>\n",
       "      <td>-73.93317</td>\n",
       "      <td>Private room</td>\n",
       "      <td>40</td>\n",
       "      <td>4</td>\n",
       "      <td>0</td>\n",
       "      <td>NaN</td>\n",
       "      <td>NaN</td>\n",
       "      <td>2</td>\n",
       "      <td>36</td>\n",
       "    </tr>\n",
       "    <tr>\n",
       "      <th>48891</th>\n",
       "      <td>36485431</td>\n",
       "      <td>Sunny Studio at Historical Neighborhood</td>\n",
       "      <td>23492952</td>\n",
       "      <td>Ilgar &amp; Aysel</td>\n",
       "      <td>Manhattan</td>\n",
       "      <td>Harlem</td>\n",
       "      <td>40.81475</td>\n",
       "      <td>-73.94867</td>\n",
       "      <td>Entire home/apt</td>\n",
       "      <td>115</td>\n",
       "      <td>10</td>\n",
       "      <td>0</td>\n",
       "      <td>NaN</td>\n",
       "      <td>NaN</td>\n",
       "      <td>1</td>\n",
       "      <td>27</td>\n",
       "    </tr>\n",
       "    <tr>\n",
       "      <th>48892</th>\n",
       "      <td>36485609</td>\n",
       "      <td>43rd St. Time Square-cozy single bed</td>\n",
       "      <td>30985759</td>\n",
       "      <td>Taz</td>\n",
       "      <td>Manhattan</td>\n",
       "      <td>Hell's Kitchen</td>\n",
       "      <td>40.75751</td>\n",
       "      <td>-73.99112</td>\n",
       "      <td>Shared room</td>\n",
       "      <td>55</td>\n",
       "      <td>1</td>\n",
       "      <td>0</td>\n",
       "      <td>NaN</td>\n",
       "      <td>NaN</td>\n",
       "      <td>6</td>\n",
       "      <td>2</td>\n",
       "    </tr>\n",
       "    <tr>\n",
       "      <th>48893</th>\n",
       "      <td>36487245</td>\n",
       "      <td>Trendy duplex in the very heart of Hell's Kitchen</td>\n",
       "      <td>68119814</td>\n",
       "      <td>Christophe</td>\n",
       "      <td>Manhattan</td>\n",
       "      <td>Hell's Kitchen</td>\n",
       "      <td>40.76404</td>\n",
       "      <td>-73.98933</td>\n",
       "      <td>Private room</td>\n",
       "      <td>90</td>\n",
       "      <td>7</td>\n",
       "      <td>0</td>\n",
       "      <td>NaN</td>\n",
       "      <td>NaN</td>\n",
       "      <td>1</td>\n",
       "      <td>23</td>\n",
       "    </tr>\n",
       "  </tbody>\n",
       "</table>\n",
       "<p>48894 rows × 16 columns</p>\n",
       "</div>"
      ],
      "text/plain": [
       "             id                                               nome   host_id  \\\n",
       "0          2595                              Skylit Midtown Castle      2845   \n",
       "1          3647                THE VILLAGE OF HARLEM....NEW YORK !      4632   \n",
       "2          3831                    Cozy Entire Floor of Brownstone      4869   \n",
       "3          5022   Entire Apt: Spacious Studio/Loft by central park      7192   \n",
       "4          5099          Large Cozy 1 BR Apartment In Midtown East      7322   \n",
       "...         ...                                                ...       ...   \n",
       "48889  36484665    Charming one bedroom - newly renovated rowhouse   8232441   \n",
       "48890  36485057      Affordable room in Bushwick/East Williamsburg   6570630   \n",
       "48891  36485431            Sunny Studio at Historical Neighborhood  23492952   \n",
       "48892  36485609               43rd St. Time Square-cozy single bed  30985759   \n",
       "48893  36487245  Trendy duplex in the very heart of Hell's Kitchen  68119814   \n",
       "\n",
       "           host_name bairro_group              bairro  latitude  longitude  \\\n",
       "0           Jennifer    Manhattan             Midtown  40.75362  -73.98377   \n",
       "1          Elisabeth    Manhattan              Harlem  40.80902  -73.94190   \n",
       "2        LisaRoxanne     Brooklyn        Clinton Hill  40.68514  -73.95976   \n",
       "3              Laura    Manhattan         East Harlem  40.79851  -73.94399   \n",
       "4              Chris    Manhattan         Murray Hill  40.74767  -73.97500   \n",
       "...              ...          ...                 ...       ...        ...   \n",
       "48889        Sabrina     Brooklyn  Bedford-Stuyvesant  40.67853  -73.94995   \n",
       "48890        Marisol     Brooklyn            Bushwick  40.70184  -73.93317   \n",
       "48891  Ilgar & Aysel    Manhattan              Harlem  40.81475  -73.94867   \n",
       "48892            Taz    Manhattan      Hell's Kitchen  40.75751  -73.99112   \n",
       "48893     Christophe    Manhattan      Hell's Kitchen  40.76404  -73.98933   \n",
       "\n",
       "             room_type  price  minimo_noites  numero_de_reviews ultima_review  \\\n",
       "0      Entire home/apt    225              1                 45    2019-05-21   \n",
       "1         Private room    150              3                  0           NaN   \n",
       "2      Entire home/apt     89              1                270    2019-07-05   \n",
       "3      Entire home/apt     80             10                  9    2018-11-19   \n",
       "4      Entire home/apt    200              3                 74    2019-06-22   \n",
       "...                ...    ...            ...                ...           ...   \n",
       "48889     Private room     70              2                  0           NaN   \n",
       "48890     Private room     40              4                  0           NaN   \n",
       "48891  Entire home/apt    115             10                  0           NaN   \n",
       "48892      Shared room     55              1                  0           NaN   \n",
       "48893     Private room     90              7                  0           NaN   \n",
       "\n",
       "       reviews_por_mes  calculado_host_listings_count  disponibilidade_365  \n",
       "0                 0.38                              2                  355  \n",
       "1                  NaN                              1                  365  \n",
       "2                 4.64                              1                  194  \n",
       "3                 0.10                              1                    0  \n",
       "4                 0.59                              1                  129  \n",
       "...                ...                            ...                  ...  \n",
       "48889              NaN                              2                    9  \n",
       "48890              NaN                              2                   36  \n",
       "48891              NaN                              1                   27  \n",
       "48892              NaN                              6                    2  \n",
       "48893              NaN                              1                   23  \n",
       "\n",
       "[48894 rows x 16 columns]"
      ]
     },
     "metadata": {},
     "output_type": "display_data"
    }
   ],
   "source": [
    "display(df)"
   ]
  },
  {
   "cell_type": "markdown",
   "metadata": {},
   "source": [
    "Foi possível identificar que existem 48894 linhas e 16 colunas, bem como exemplos de preenchimentos destas"
   ]
  },
  {
   "cell_type": "markdown",
   "metadata": {},
   "source": [
    "Dicionário dos Dados\n",
    "\n",
    "- **id** - Atua como uma chave exclusiva para cada anúncio nos dados do aplicativo\n",
    "\n",
    "- **nome** - Representa o nome do anúncio \n",
    "\n",
    "- **host_id** - Representa o id do usuário que hospedou o anúncio\n",
    "\n",
    "- **host_name** - Contém o nome do usuário que hospedou o anúncio\n",
    "\n",
    "- **bairro_group** - Contém o nome do bairro onde o anúncio está localizado\n",
    "\n",
    "- **bairro** - Contém o nome da área onde o anúncio está localizado\n",
    "\n",
    "- **latitude** - Contém a latitude do local\n",
    "\n",
    "- **longitude** - Contém a longitude do local\n",
    "\n",
    "- **room_type** - Contém o tipo de espaço de cada anúncio\n",
    "\n",
    "- **price** - Contém o preço por noite em dólares listado pelo anfitrião\n",
    "\n",
    "- **minimo_noites** - Contém o número mínimo de noites que o usuário deve reservar\n",
    "\n",
    "- **numero_de_reviews** - Contém o número de comentários dados a cada listagem\n",
    "\n",
    "- **ultima_review** - Contém a data da última revisão dada à listagem\n",
    "\n",
    "- **reviews_por_mes** - Contém o número de avaliações fornecidas por mês\n",
    "\n",
    "- **calculado_host_listings_count** - Contém a quantidade de listagem por host\n",
    "\n",
    "- **disponibilidade_365** - Contém o número de dias em que o anúncio está disponível para reserva\n"
   ]
  },
  {
   "cell_type": "markdown",
   "metadata": {},
   "source": [
    "#### Análise geral dos dados (detecção inicial geral de problemas)"
   ]
  },
  {
   "cell_type": "markdown",
   "metadata": {},
   "source": [
    "Esta etapa permite identificar rapidamente problemas gerais e ter um panorama do dataset."
   ]
  },
  {
   "cell_type": "code",
   "execution_count": 4,
   "metadata": {},
   "outputs": [
    {
     "name": "stdout",
     "output_type": "stream",
     "text": [
      "nome                  16\n",
      "host_name             21\n",
      "ultima_review      10052\n",
      "reviews_por_mes    10052\n",
      "dtype: int64\n"
     ]
    }
   ],
   "source": [
    "# Verificando colunas com valores nulos\n",
    "nulos = df.isnull().sum()\n",
    "nulos = nulos[nulos > 0]\n",
    "print(nulos)"
   ]
  },
  {
   "cell_type": "markdown",
   "metadata": {},
   "source": [
    "Algumas colunas do dataset possuem valores nulos, o que pode sugerir diferentes interpretações.\n",
    "- **nome** (do anúncio) possui 16 nulos, o que sugere erro durante o cadastro ou anúncio sem título. Isso pode afetar análise dos anúncios baseadas nesse texto.\n",
    "- **host_name** (nome do anfitrião) possui 21 nulos, o que pode significar perfis incompletos.\n",
    "- **ultima_review** possui 10052 nulos, o que sugere que estes anúncios nunca receberam avaliações, mas também que eles podem ser novos. Isso pode impactar avaliação da popularidade dos imóveis.\n",
    "- **reviews_por_mes** possui 10052 valores nulos, o que também sugere que os anúncios nunca receberam avaliações, ou são anúncios novos. O impacto, assim como a inferência são similares ao anterior. Os valores nulos iguais e a lógica deles, sugerem que os anúncios que tem esse campo vazio possuem os dois campos vazios, o que será analisado posteriormente.\n"
   ]
  },
  {
   "cell_type": "code",
   "execution_count": 5,
   "metadata": {},
   "outputs": [],
   "source": [
    "# #Verificando quantas linhas por colunas possuem valores únicos\n",
    "# df.nunique()"
   ]
  },
  {
   "cell_type": "code",
   "execution_count": null,
   "metadata": {},
   "outputs": [],
   "source": []
  },
  {
   "cell_type": "code",
   "execution_count": 6,
   "metadata": {},
   "outputs": [
    {
     "name": "stdout",
     "output_type": "stream",
     "text": [
      "\n",
      "Tipos de dados:\n",
      " id                                 int64\n",
      "nome                              object\n",
      "host_id                            int64\n",
      "host_name                         object\n",
      "bairro_group                      object\n",
      "bairro                            object\n",
      "latitude                         float64\n",
      "longitude                        float64\n",
      "room_type                         object\n",
      "price                              int64\n",
      "minimo_noites                      int64\n",
      "numero_de_reviews                  int64\n",
      "ultima_review                     object\n",
      "reviews_por_mes                  float64\n",
      "calculado_host_listings_count      int64\n",
      "disponibilidade_365                int64\n",
      "dtype: object\n"
     ]
    }
   ],
   "source": [
    "#Verificando tipos de dados por colunas\n",
    "print(\"\\nTipos de dados:\\n\", df.dtypes)"
   ]
  },
  {
   "cell_type": "markdown",
   "metadata": {},
   "source": [
    "Os tipos de variáveis presentes em cada coluna correspondem ao esperado, com exceção da coluna **ultima_review**, que atualmente está no formato object. Para análises temporais mais eficazes, como analisar a temporalidade dos dados, será convertido para o formato datetime."
   ]
  },
  {
   "cell_type": "code",
   "execution_count": 7,
   "metadata": {},
   "outputs": [
    {
     "data": {
      "text/plain": [
       "0"
      ]
     },
     "execution_count": 7,
     "metadata": {},
     "output_type": "execute_result"
    }
   ],
   "source": [
    "#Verificação de duplicatas: \n",
    "df.duplicated().sum()"
   ]
  },
  {
   "cell_type": "markdown",
   "metadata": {},
   "source": [
    "Não há nenhuma linha duplicada, isso é bom pois evita enviesamento das análises"
   ]
  },
  {
   "cell_type": "code",
   "execution_count": 8,
   "metadata": {},
   "outputs": [
    {
     "data": {
      "text/html": [
       "<div>\n",
       "<style scoped>\n",
       "    .dataframe tbody tr th:only-of-type {\n",
       "        vertical-align: middle;\n",
       "    }\n",
       "\n",
       "    .dataframe tbody tr th {\n",
       "        vertical-align: top;\n",
       "    }\n",
       "\n",
       "    .dataframe thead th {\n",
       "        text-align: right;\n",
       "    }\n",
       "</style>\n",
       "<table border=\"1\" class=\"dataframe\">\n",
       "  <thead>\n",
       "    <tr style=\"text-align: right;\">\n",
       "      <th></th>\n",
       "      <th>id</th>\n",
       "      <th>host_id</th>\n",
       "      <th>latitude</th>\n",
       "      <th>longitude</th>\n",
       "      <th>price</th>\n",
       "      <th>minimo_noites</th>\n",
       "      <th>numero_de_reviews</th>\n",
       "      <th>reviews_por_mes</th>\n",
       "      <th>calculado_host_listings_count</th>\n",
       "      <th>disponibilidade_365</th>\n",
       "    </tr>\n",
       "  </thead>\n",
       "  <tbody>\n",
       "    <tr>\n",
       "      <th>count</th>\n",
       "      <td>4.889400e+04</td>\n",
       "      <td>4.889400e+04</td>\n",
       "      <td>48894.000000</td>\n",
       "      <td>48894.000000</td>\n",
       "      <td>48894.000000</td>\n",
       "      <td>48894.000000</td>\n",
       "      <td>48894.000000</td>\n",
       "      <td>38842.000000</td>\n",
       "      <td>48894.000000</td>\n",
       "      <td>48894.000000</td>\n",
       "    </tr>\n",
       "    <tr>\n",
       "      <th>mean</th>\n",
       "      <td>1.901753e+07</td>\n",
       "      <td>6.762139e+07</td>\n",
       "      <td>40.728951</td>\n",
       "      <td>-73.952169</td>\n",
       "      <td>152.720763</td>\n",
       "      <td>7.030085</td>\n",
       "      <td>23.274758</td>\n",
       "      <td>1.373251</td>\n",
       "      <td>7.144005</td>\n",
       "      <td>112.776169</td>\n",
       "    </tr>\n",
       "    <tr>\n",
       "      <th>std</th>\n",
       "      <td>1.098288e+07</td>\n",
       "      <td>7.861118e+07</td>\n",
       "      <td>0.054529</td>\n",
       "      <td>0.046157</td>\n",
       "      <td>240.156625</td>\n",
       "      <td>20.510741</td>\n",
       "      <td>44.550991</td>\n",
       "      <td>1.680453</td>\n",
       "      <td>32.952855</td>\n",
       "      <td>131.618692</td>\n",
       "    </tr>\n",
       "    <tr>\n",
       "      <th>min</th>\n",
       "      <td>2.595000e+03</td>\n",
       "      <td>2.438000e+03</td>\n",
       "      <td>40.499790</td>\n",
       "      <td>-74.244420</td>\n",
       "      <td>0.000000</td>\n",
       "      <td>1.000000</td>\n",
       "      <td>0.000000</td>\n",
       "      <td>0.010000</td>\n",
       "      <td>1.000000</td>\n",
       "      <td>0.000000</td>\n",
       "    </tr>\n",
       "    <tr>\n",
       "      <th>25%</th>\n",
       "      <td>9.472371e+06</td>\n",
       "      <td>7.822737e+06</td>\n",
       "      <td>40.690100</td>\n",
       "      <td>-73.983070</td>\n",
       "      <td>69.000000</td>\n",
       "      <td>1.000000</td>\n",
       "      <td>1.000000</td>\n",
       "      <td>0.190000</td>\n",
       "      <td>1.000000</td>\n",
       "      <td>0.000000</td>\n",
       "    </tr>\n",
       "    <tr>\n",
       "      <th>50%</th>\n",
       "      <td>1.967743e+07</td>\n",
       "      <td>3.079553e+07</td>\n",
       "      <td>40.723075</td>\n",
       "      <td>-73.955680</td>\n",
       "      <td>106.000000</td>\n",
       "      <td>3.000000</td>\n",
       "      <td>5.000000</td>\n",
       "      <td>0.720000</td>\n",
       "      <td>1.000000</td>\n",
       "      <td>45.000000</td>\n",
       "    </tr>\n",
       "    <tr>\n",
       "      <th>75%</th>\n",
       "      <td>2.915225e+07</td>\n",
       "      <td>1.074344e+08</td>\n",
       "      <td>40.763117</td>\n",
       "      <td>-73.936273</td>\n",
       "      <td>175.000000</td>\n",
       "      <td>5.000000</td>\n",
       "      <td>24.000000</td>\n",
       "      <td>2.020000</td>\n",
       "      <td>2.000000</td>\n",
       "      <td>227.000000</td>\n",
       "    </tr>\n",
       "    <tr>\n",
       "      <th>max</th>\n",
       "      <td>3.648724e+07</td>\n",
       "      <td>2.743213e+08</td>\n",
       "      <td>40.913060</td>\n",
       "      <td>-73.712990</td>\n",
       "      <td>10000.000000</td>\n",
       "      <td>1250.000000</td>\n",
       "      <td>629.000000</td>\n",
       "      <td>58.500000</td>\n",
       "      <td>327.000000</td>\n",
       "      <td>365.000000</td>\n",
       "    </tr>\n",
       "  </tbody>\n",
       "</table>\n",
       "</div>"
      ],
      "text/plain": [
       "                 id       host_id      latitude     longitude         price  \\\n",
       "count  4.889400e+04  4.889400e+04  48894.000000  48894.000000  48894.000000   \n",
       "mean   1.901753e+07  6.762139e+07     40.728951    -73.952169    152.720763   \n",
       "std    1.098288e+07  7.861118e+07      0.054529      0.046157    240.156625   \n",
       "min    2.595000e+03  2.438000e+03     40.499790    -74.244420      0.000000   \n",
       "25%    9.472371e+06  7.822737e+06     40.690100    -73.983070     69.000000   \n",
       "50%    1.967743e+07  3.079553e+07     40.723075    -73.955680    106.000000   \n",
       "75%    2.915225e+07  1.074344e+08     40.763117    -73.936273    175.000000   \n",
       "max    3.648724e+07  2.743213e+08     40.913060    -73.712990  10000.000000   \n",
       "\n",
       "       minimo_noites  numero_de_reviews  reviews_por_mes  \\\n",
       "count   48894.000000       48894.000000     38842.000000   \n",
       "mean        7.030085          23.274758         1.373251   \n",
       "std        20.510741          44.550991         1.680453   \n",
       "min         1.000000           0.000000         0.010000   \n",
       "25%         1.000000           1.000000         0.190000   \n",
       "50%         3.000000           5.000000         0.720000   \n",
       "75%         5.000000          24.000000         2.020000   \n",
       "max      1250.000000         629.000000        58.500000   \n",
       "\n",
       "       calculado_host_listings_count  disponibilidade_365  \n",
       "count                   48894.000000         48894.000000  \n",
       "mean                        7.144005           112.776169  \n",
       "std                        32.952855           131.618692  \n",
       "min                         1.000000             0.000000  \n",
       "25%                         1.000000             0.000000  \n",
       "50%                         1.000000            45.000000  \n",
       "75%                         2.000000           227.000000  \n",
       "max                       327.000000           365.000000  "
      ]
     },
     "execution_count": 8,
     "metadata": {},
     "output_type": "execute_result"
    }
   ],
   "source": [
    "#Analise estatística preliminar das colunas int e float\n",
    "colunas_int = df.select_dtypes(include=['int64', 'float64']).columns\n",
    "df[colunas_int].describe()"
   ]
  },
  {
   "cell_type": "markdown",
   "metadata": {},
   "source": [
    "#### Verificação de problemas por coluna (Análise Detalhada)"
   ]
  },
  {
   "cell_type": "markdown",
   "metadata": {},
   "source": [
    "Analisando uma coluna por vez para identificar detalhes e possíveis problemas e inconsistências que serão tratadas na próxima sessão"
   ]
  },
  {
   "cell_type": "markdown",
   "metadata": {
    "jp-MarkdownHeadingCollapsed": true
   },
   "source": [
    "##### Coluna: id"
   ]
  },
  {
   "cell_type": "markdown",
   "metadata": {},
   "source": [
    "Conforme visualizado anteriormente, as informações para a coluna **id**:\n",
    "- Atua como uma chave exclusiva para cada anúncio nos dados do aplicativo.\n",
    "- Não há valores nulos na coluna id.\n",
    "- Não há valores negativos.\n",
    "- Tem o tipo int64.\n",
    "\n",
    "Restrições:\n",
    "- não deve haver ids duplicados."
   ]
  },
  {
   "cell_type": "code",
   "execution_count": 9,
   "metadata": {},
   "outputs": [
    {
     "name": "stdout",
     "output_type": "stream",
     "text": [
      "Há 48894 valores de ids únicos para 48894 linhas\n"
     ]
    }
   ],
   "source": [
    "# Verifica se cada linha tem um id exclusivo\n",
    "print(f\"Há {df['id'].nunique()} valores de ids únicos para {len(df)} linhas\")"
   ]
  },
  {
   "cell_type": "markdown",
   "metadata": {},
   "source": [
    "Assim é possível sugerir a integridade referencial do dataset, além da normalidade dos dados"
   ]
  },
  {
   "cell_type": "markdown",
   "metadata": {
    "jp-MarkdownHeadingCollapsed": true
   },
   "source": [
    "##### Coluna: nome"
   ]
  },
  {
   "cell_type": "markdown",
   "metadata": {},
   "source": [
    "Conforme visualizado anteriormente, as informações para a coluna **nome**:\n",
    "- Representa o nome do anúncio.\n",
    "- há 16 valores nulos na coluna nome.\n",
    "- tem o tipo object.\n",
    "\n",
    "Procedimentos:\n",
    "- Analisar valores nulos\n",
    "- Analisar necessidade de remover espaçamento extra\n",
    "- Analisar nomes duplicados"
   ]
  },
  {
   "cell_type": "markdown",
   "metadata": {},
   "source": [
    "###### Analisando valores nulos"
   ]
  },
  {
   "cell_type": "code",
   "execution_count": 10,
   "metadata": {},
   "outputs": [
    {
     "data": {
      "text/html": [
       "<div>\n",
       "<style scoped>\n",
       "    .dataframe tbody tr th:only-of-type {\n",
       "        vertical-align: middle;\n",
       "    }\n",
       "\n",
       "    .dataframe tbody tr th {\n",
       "        vertical-align: top;\n",
       "    }\n",
       "\n",
       "    .dataframe thead th {\n",
       "        text-align: right;\n",
       "    }\n",
       "</style>\n",
       "<table border=\"1\" class=\"dataframe\">\n",
       "  <thead>\n",
       "    <tr style=\"text-align: right;\">\n",
       "      <th></th>\n",
       "      <th>id</th>\n",
       "      <th>nome</th>\n",
       "      <th>host_id</th>\n",
       "      <th>host_name</th>\n",
       "      <th>bairro_group</th>\n",
       "      <th>bairro</th>\n",
       "      <th>latitude</th>\n",
       "      <th>longitude</th>\n",
       "      <th>room_type</th>\n",
       "      <th>price</th>\n",
       "      <th>minimo_noites</th>\n",
       "      <th>numero_de_reviews</th>\n",
       "      <th>ultima_review</th>\n",
       "      <th>reviews_por_mes</th>\n",
       "      <th>calculado_host_listings_count</th>\n",
       "      <th>disponibilidade_365</th>\n",
       "    </tr>\n",
       "  </thead>\n",
       "  <tbody>\n",
       "    <tr>\n",
       "      <th>28888</th>\n",
       "      <td>22275821</td>\n",
       "      <td>NaN</td>\n",
       "      <td>49662398</td>\n",
       "      <td>Kathleen</td>\n",
       "      <td>Brooklyn</td>\n",
       "      <td>Bushwick</td>\n",
       "      <td>40.69546</td>\n",
       "      <td>-73.92741</td>\n",
       "      <td>Entire home/apt</td>\n",
       "      <td>110</td>\n",
       "      <td>4</td>\n",
       "      <td>5</td>\n",
       "      <td>2018-08-13</td>\n",
       "      <td>0.27</td>\n",
       "      <td>1</td>\n",
       "      <td>0</td>\n",
       "    </tr>\n",
       "    <tr>\n",
       "      <th>2853</th>\n",
       "      <td>1615764</td>\n",
       "      <td>NaN</td>\n",
       "      <td>6676776</td>\n",
       "      <td>Peter</td>\n",
       "      <td>Manhattan</td>\n",
       "      <td>Battery Park City</td>\n",
       "      <td>40.71239</td>\n",
       "      <td>-74.01620</td>\n",
       "      <td>Entire home/apt</td>\n",
       "      <td>400</td>\n",
       "      <td>1000</td>\n",
       "      <td>0</td>\n",
       "      <td>NaN</td>\n",
       "      <td>NaN</td>\n",
       "      <td>1</td>\n",
       "      <td>362</td>\n",
       "    </tr>\n",
       "    <tr>\n",
       "      <th>13400</th>\n",
       "      <td>10052289</td>\n",
       "      <td>NaN</td>\n",
       "      <td>49522403</td>\n",
       "      <td>Vanessa</td>\n",
       "      <td>Brooklyn</td>\n",
       "      <td>Brownsville</td>\n",
       "      <td>40.66409</td>\n",
       "      <td>-73.92314</td>\n",
       "      <td>Private room</td>\n",
       "      <td>50</td>\n",
       "      <td>3</td>\n",
       "      <td>3</td>\n",
       "      <td>2016-08-18</td>\n",
       "      <td>0.07</td>\n",
       "      <td>1</td>\n",
       "      <td>362</td>\n",
       "    </tr>\n",
       "    <tr>\n",
       "      <th>16070</th>\n",
       "      <td>12988898</td>\n",
       "      <td>NaN</td>\n",
       "      <td>71552588</td>\n",
       "      <td>Andrea</td>\n",
       "      <td>Bronx</td>\n",
       "      <td>Fordham</td>\n",
       "      <td>40.86032</td>\n",
       "      <td>-73.88493</td>\n",
       "      <td>Shared room</td>\n",
       "      <td>130</td>\n",
       "      <td>1</td>\n",
       "      <td>0</td>\n",
       "      <td>NaN</td>\n",
       "      <td>NaN</td>\n",
       "      <td>1</td>\n",
       "      <td>365</td>\n",
       "    </tr>\n",
       "    <tr>\n",
       "      <th>8840</th>\n",
       "      <td>6782407</td>\n",
       "      <td>NaN</td>\n",
       "      <td>31147528</td>\n",
       "      <td>Huei-Yin</td>\n",
       "      <td>Brooklyn</td>\n",
       "      <td>Williamsburg</td>\n",
       "      <td>40.71354</td>\n",
       "      <td>-73.93882</td>\n",
       "      <td>Private room</td>\n",
       "      <td>45</td>\n",
       "      <td>1</td>\n",
       "      <td>0</td>\n",
       "      <td>NaN</td>\n",
       "      <td>NaN</td>\n",
       "      <td>1</td>\n",
       "      <td>0</td>\n",
       "    </tr>\n",
       "    <tr>\n",
       "      <th>6566</th>\n",
       "      <td>4756856</td>\n",
       "      <td>NaN</td>\n",
       "      <td>1832442</td>\n",
       "      <td>Carolina</td>\n",
       "      <td>Brooklyn</td>\n",
       "      <td>Bushwick</td>\n",
       "      <td>40.70046</td>\n",
       "      <td>-73.92825</td>\n",
       "      <td>Private room</td>\n",
       "      <td>70</td>\n",
       "      <td>1</td>\n",
       "      <td>0</td>\n",
       "      <td>NaN</td>\n",
       "      <td>NaN</td>\n",
       "      <td>1</td>\n",
       "      <td>0</td>\n",
       "    </tr>\n",
       "    <tr>\n",
       "      <th>12823</th>\n",
       "      <td>9787590</td>\n",
       "      <td>NaN</td>\n",
       "      <td>50448556</td>\n",
       "      <td>Miguel</td>\n",
       "      <td>Manhattan</td>\n",
       "      <td>Harlem</td>\n",
       "      <td>40.80316</td>\n",
       "      <td>-73.95189</td>\n",
       "      <td>Entire home/apt</td>\n",
       "      <td>300</td>\n",
       "      <td>5</td>\n",
       "      <td>0</td>\n",
       "      <td>NaN</td>\n",
       "      <td>NaN</td>\n",
       "      <td>5</td>\n",
       "      <td>0</td>\n",
       "    </tr>\n",
       "    <tr>\n",
       "      <th>5774</th>\n",
       "      <td>4209595</td>\n",
       "      <td>NaN</td>\n",
       "      <td>20700823</td>\n",
       "      <td>Jesse</td>\n",
       "      <td>Manhattan</td>\n",
       "      <td>Greenwich Village</td>\n",
       "      <td>40.73473</td>\n",
       "      <td>-73.99244</td>\n",
       "      <td>Entire home/apt</td>\n",
       "      <td>225</td>\n",
       "      <td>1</td>\n",
       "      <td>1</td>\n",
       "      <td>2015-01-01</td>\n",
       "      <td>0.02</td>\n",
       "      <td>1</td>\n",
       "      <td>0</td>\n",
       "    </tr>\n",
       "    <tr>\n",
       "      <th>6604</th>\n",
       "      <td>4774658</td>\n",
       "      <td>NaN</td>\n",
       "      <td>24625694</td>\n",
       "      <td>Josh</td>\n",
       "      <td>Manhattan</td>\n",
       "      <td>Washington Heights</td>\n",
       "      <td>40.85198</td>\n",
       "      <td>-73.93108</td>\n",
       "      <td>Private room</td>\n",
       "      <td>40</td>\n",
       "      <td>1</td>\n",
       "      <td>0</td>\n",
       "      <td>NaN</td>\n",
       "      <td>NaN</td>\n",
       "      <td>1</td>\n",
       "      <td>0</td>\n",
       "    </tr>\n",
       "    <tr>\n",
       "      <th>18046</th>\n",
       "      <td>14135050</td>\n",
       "      <td>NaN</td>\n",
       "      <td>85288337</td>\n",
       "      <td>Jeff</td>\n",
       "      <td>Brooklyn</td>\n",
       "      <td>Bedford-Stuyvesant</td>\n",
       "      <td>40.69421</td>\n",
       "      <td>-73.93234</td>\n",
       "      <td>Private room</td>\n",
       "      <td>70</td>\n",
       "      <td>3</td>\n",
       "      <td>0</td>\n",
       "      <td>NaN</td>\n",
       "      <td>NaN</td>\n",
       "      <td>1</td>\n",
       "      <td>0</td>\n",
       "    </tr>\n",
       "    <tr>\n",
       "      <th>5974</th>\n",
       "      <td>4370230</td>\n",
       "      <td>NaN</td>\n",
       "      <td>22686810</td>\n",
       "      <td>Michaël</td>\n",
       "      <td>Manhattan</td>\n",
       "      <td>Nolita</td>\n",
       "      <td>40.72046</td>\n",
       "      <td>-73.99550</td>\n",
       "      <td>Entire home/apt</td>\n",
       "      <td>215</td>\n",
       "      <td>7</td>\n",
       "      <td>5</td>\n",
       "      <td>2016-01-02</td>\n",
       "      <td>0.09</td>\n",
       "      <td>1</td>\n",
       "      <td>0</td>\n",
       "    </tr>\n",
       "    <tr>\n",
       "      <th>3702</th>\n",
       "      <td>2232600</td>\n",
       "      <td>NaN</td>\n",
       "      <td>11395220</td>\n",
       "      <td>Anna</td>\n",
       "      <td>Manhattan</td>\n",
       "      <td>East Village</td>\n",
       "      <td>40.73215</td>\n",
       "      <td>-73.98821</td>\n",
       "      <td>Entire home/apt</td>\n",
       "      <td>200</td>\n",
       "      <td>1</td>\n",
       "      <td>28</td>\n",
       "      <td>2015-06-08</td>\n",
       "      <td>0.45</td>\n",
       "      <td>1</td>\n",
       "      <td>341</td>\n",
       "    </tr>\n",
       "    <tr>\n",
       "      <th>15818</th>\n",
       "      <td>12797684</td>\n",
       "      <td>NaN</td>\n",
       "      <td>69715276</td>\n",
       "      <td>Yan</td>\n",
       "      <td>Manhattan</td>\n",
       "      <td>Upper West Side</td>\n",
       "      <td>40.79843</td>\n",
       "      <td>-73.96404</td>\n",
       "      <td>Private room</td>\n",
       "      <td>100</td>\n",
       "      <td>1</td>\n",
       "      <td>0</td>\n",
       "      <td>NaN</td>\n",
       "      <td>NaN</td>\n",
       "      <td>2</td>\n",
       "      <td>0</td>\n",
       "    </tr>\n",
       "    <tr>\n",
       "      <th>11962</th>\n",
       "      <td>9325951</td>\n",
       "      <td>NaN</td>\n",
       "      <td>33377685</td>\n",
       "      <td>Jonathan</td>\n",
       "      <td>Manhattan</td>\n",
       "      <td>Hell's Kitchen</td>\n",
       "      <td>40.76436</td>\n",
       "      <td>-73.98573</td>\n",
       "      <td>Entire home/apt</td>\n",
       "      <td>190</td>\n",
       "      <td>4</td>\n",
       "      <td>1</td>\n",
       "      <td>2016-01-05</td>\n",
       "      <td>0.02</td>\n",
       "      <td>1</td>\n",
       "      <td>0</td>\n",
       "    </tr>\n",
       "    <tr>\n",
       "      <th>13058</th>\n",
       "      <td>9885866</td>\n",
       "      <td>NaN</td>\n",
       "      <td>37306329</td>\n",
       "      <td>Juliette</td>\n",
       "      <td>Manhattan</td>\n",
       "      <td>Chinatown</td>\n",
       "      <td>40.71632</td>\n",
       "      <td>-73.99328</td>\n",
       "      <td>Private room</td>\n",
       "      <td>67</td>\n",
       "      <td>4</td>\n",
       "      <td>0</td>\n",
       "      <td>NaN</td>\n",
       "      <td>NaN</td>\n",
       "      <td>1</td>\n",
       "      <td>0</td>\n",
       "    </tr>\n",
       "    <tr>\n",
       "      <th>6268</th>\n",
       "      <td>4581788</td>\n",
       "      <td>NaN</td>\n",
       "      <td>21600904</td>\n",
       "      <td>Lucie</td>\n",
       "      <td>Brooklyn</td>\n",
       "      <td>Williamsburg</td>\n",
       "      <td>40.71370</td>\n",
       "      <td>-73.94378</td>\n",
       "      <td>Private room</td>\n",
       "      <td>150</td>\n",
       "      <td>1</td>\n",
       "      <td>0</td>\n",
       "      <td>NaN</td>\n",
       "      <td>NaN</td>\n",
       "      <td>1</td>\n",
       "      <td>0</td>\n",
       "    </tr>\n",
       "  </tbody>\n",
       "</table>\n",
       "</div>"
      ],
      "text/plain": [
       "             id nome   host_id host_name bairro_group              bairro  \\\n",
       "28888  22275821  NaN  49662398  Kathleen     Brooklyn            Bushwick   \n",
       "2853    1615764  NaN   6676776     Peter    Manhattan   Battery Park City   \n",
       "13400  10052289  NaN  49522403   Vanessa     Brooklyn         Brownsville   \n",
       "16070  12988898  NaN  71552588    Andrea        Bronx             Fordham   \n",
       "8840    6782407  NaN  31147528  Huei-Yin     Brooklyn        Williamsburg   \n",
       "6566    4756856  NaN   1832442  Carolina     Brooklyn            Bushwick   \n",
       "12823   9787590  NaN  50448556    Miguel    Manhattan              Harlem   \n",
       "5774    4209595  NaN  20700823     Jesse    Manhattan   Greenwich Village   \n",
       "6604    4774658  NaN  24625694      Josh    Manhattan  Washington Heights   \n",
       "18046  14135050  NaN  85288337      Jeff     Brooklyn  Bedford-Stuyvesant   \n",
       "5974    4370230  NaN  22686810   Michaël    Manhattan              Nolita   \n",
       "3702    2232600  NaN  11395220      Anna    Manhattan        East Village   \n",
       "15818  12797684  NaN  69715276       Yan    Manhattan     Upper West Side   \n",
       "11962   9325951  NaN  33377685  Jonathan    Manhattan      Hell's Kitchen   \n",
       "13058   9885866  NaN  37306329  Juliette    Manhattan           Chinatown   \n",
       "6268    4581788  NaN  21600904     Lucie     Brooklyn        Williamsburg   \n",
       "\n",
       "       latitude  longitude        room_type  price  minimo_noites  \\\n",
       "28888  40.69546  -73.92741  Entire home/apt    110              4   \n",
       "2853   40.71239  -74.01620  Entire home/apt    400           1000   \n",
       "13400  40.66409  -73.92314     Private room     50              3   \n",
       "16070  40.86032  -73.88493      Shared room    130              1   \n",
       "8840   40.71354  -73.93882     Private room     45              1   \n",
       "6566   40.70046  -73.92825     Private room     70              1   \n",
       "12823  40.80316  -73.95189  Entire home/apt    300              5   \n",
       "5774   40.73473  -73.99244  Entire home/apt    225              1   \n",
       "6604   40.85198  -73.93108     Private room     40              1   \n",
       "18046  40.69421  -73.93234     Private room     70              3   \n",
       "5974   40.72046  -73.99550  Entire home/apt    215              7   \n",
       "3702   40.73215  -73.98821  Entire home/apt    200              1   \n",
       "15818  40.79843  -73.96404     Private room    100              1   \n",
       "11962  40.76436  -73.98573  Entire home/apt    190              4   \n",
       "13058  40.71632  -73.99328     Private room     67              4   \n",
       "6268   40.71370  -73.94378     Private room    150              1   \n",
       "\n",
       "       numero_de_reviews ultima_review  reviews_por_mes  \\\n",
       "28888                  5    2018-08-13             0.27   \n",
       "2853                   0           NaN              NaN   \n",
       "13400                  3    2016-08-18             0.07   \n",
       "16070                  0           NaN              NaN   \n",
       "8840                   0           NaN              NaN   \n",
       "6566                   0           NaN              NaN   \n",
       "12823                  0           NaN              NaN   \n",
       "5774                   1    2015-01-01             0.02   \n",
       "6604                   0           NaN              NaN   \n",
       "18046                  0           NaN              NaN   \n",
       "5974                   5    2016-01-02             0.09   \n",
       "3702                  28    2015-06-08             0.45   \n",
       "15818                  0           NaN              NaN   \n",
       "11962                  1    2016-01-05             0.02   \n",
       "13058                  0           NaN              NaN   \n",
       "6268                   0           NaN              NaN   \n",
       "\n",
       "       calculado_host_listings_count  disponibilidade_365  \n",
       "28888                              1                    0  \n",
       "2853                               1                  362  \n",
       "13400                              1                  362  \n",
       "16070                              1                  365  \n",
       "8840                               1                    0  \n",
       "6566                               1                    0  \n",
       "12823                              5                    0  \n",
       "5774                               1                    0  \n",
       "6604                               1                    0  \n",
       "18046                              1                    0  \n",
       "5974                               1                    0  \n",
       "3702                               1                  341  \n",
       "15818                              2                    0  \n",
       "11962                              1                    0  \n",
       "13058                              1                    0  \n",
       "6268                               1                    0  "
      ]
     },
     "execution_count": 10,
     "metadata": {},
     "output_type": "execute_result"
    }
   ],
   "source": [
    "# Visualizando os anúncios com o nome nulo\n",
    "df[df['nome'].isnull()].sample(n=16)"
   ]
  },
  {
   "cell_type": "markdown",
   "metadata": {},
   "source": [
    "Anúncios com nomes nulos prejudicam o alcance do anúncio e é contrintuitivo. Isso sugere alguns tipos de problemas:\n",
    "\n",
    "- **Cadastros abandonados**: Anuncios sem reviews e nenhuma disponibilidade sugerem que o cadastro não foi concluído com sucesso e o anúncio não cumpre seu papel.\n",
    "- **Anúncios mal configurados**: Anúncios sem reviews e alguma disponibilidade sugerem que o cadastro foi feito incorretamente, o nome nulo foi um engano.\n",
    "- **Anúncios abandonados**: Anúncios que possuem algum review indicam que já foram utilizados e sugerem que o nome foi alterado por desistência do host.\n",
    "\n",
    "Solução:\n",
    "- Para os cenários 1 e 2, a ausência do nome não é aleatória, mas sim um indicador de problema, que podem prejudicar a análise dos dados. Portanto, essas linhas serão excluídas.\n",
    "- Para o cenário 3, mesmo sem nome, os preços e localização podem conter informações válidas sobre o mercado. Portanto será considerado para o modelo de previsão de preços. No caso da análise dos nomes no preço, esses anúncios serão desconsiderados."
   ]
  },
  {
   "cell_type": "code",
   "execution_count": 11,
   "metadata": {},
   "outputs": [
    {
     "name": "stdout",
     "output_type": "stream",
     "text": [
      "Anúncios com nome nulo  0\n"
     ]
    }
   ],
   "source": [
    "# Atualizando o dataset limpo\n",
    "# 1. Remove anúncios com nome nulo E reviews nulos\n",
    "dataset = dataset[~((dataset['nome'].isna()) & (dataset['numero_de_reviews']== 0))]\n",
    "\n",
    "# 2. Substitui nomes nulos por \"nome nulo\" onde há reviews\n",
    "dataset.loc[(dataset['nome'].isna()) & (dataset['numero_de_reviews'].notna()), 'nome'] = 'nome nulo'\n",
    "\n",
    "# Reseta o índice se necessário\n",
    "dataset = dataset.reset_index(drop=True)\n",
    "\n",
    "# Visualizando os anúncios com o nome nulo\n",
    "print(\"Anúncios com nome nulo \", dataset[dataset['nome'].isnull()].shape[0])"
   ]
  },
  {
   "cell_type": "code",
   "execution_count": 104,
   "metadata": {},
   "outputs": [],
   "source": [
    "#3. Atualizar o calculado_host_listing_count, para conferir valores reais\n",
    "dataset.loc[dataset['host_id'].isin([69715276, 50448556]), 'calculado_host_listings_count'] = \\\n",
    "    dataset.loc[dataset['host_id'].isin([69715276, 50448556]), 'calculado_host_listings_count'] - 1"
   ]
  },
  {
   "cell_type": "markdown",
   "metadata": {},
   "source": [
    "Todos os casos foram tratados. Para fins de documentação, foram excluídas 10 linhas considerados anúncios com nome nulo E reviews nulos."
   ]
  },
  {
   "cell_type": "markdown",
   "metadata": {
    "jp-MarkdownHeadingCollapsed": true
   },
   "source": [
    "###### Analisando espaços extras"
   ]
  },
  {
   "cell_type": "code",
   "execution_count": 12,
   "metadata": {},
   "outputs": [
    {
     "name": "stdout",
     "output_type": "stream",
     "text": [
      "Registros com espaço no início: 13\n",
      "Registros com espaço no fim: 231\n",
      "Registros com espaços múltiplos: 1435\n"
     ]
    }
   ],
   "source": [
    "# Quantidade de registros com espaço no início (ignorando nulos) do dataset sujo\n",
    "espaco_inicio = df[df['nome'].notna()][df[df['nome'].notna()]['nome'].str.match('^\\s+')].shape[0]\n",
    "print(f'Registros com espaço no início: {espaco_inicio}')\n",
    "\n",
    "# Quantidade de registros com espaço no fim (ignorando nulos) do dataset sujo\n",
    "espaco_fim = df[df['nome'].notna()][df[df['nome'].notna()]['nome'].str.match('.*\\s+$')].shape[0]\n",
    "print(f'Registros com espaço no fim: {espaco_fim}')\n",
    "\n",
    "# Quantidade de registros com mais de um espaço entre palavras (ignorando nulos) do dataset sujo\n",
    "espaco_multiplo = df[df['nome'].notna()][df[df['nome'].notna()]['nome'].str.contains('\\s{2,}')].shape[0]\n",
    "print(f'Registros com espaços múltiplos: {espaco_multiplo}')"
   ]
  },
  {
   "cell_type": "markdown",
   "metadata": {},
   "source": [
    "A presença de espaços anormais no início, no fim, ou múltiplos entre palavras prejudicam a qualidade dos dados de texto, prejudicando, por exemplo, a comparação de strings da próxima etapa. Por isso serão removidos."
   ]
  },
  {
   "cell_type": "code",
   "execution_count": 13,
   "metadata": {},
   "outputs": [],
   "source": [
    "# Atualizando o dataset limpo\n",
    "# 1. Remove espaços do início e fim    \n",
    "dataset['nome'] = (dataset['nome']               \n",
    "    .str.strip()  \n",
    "                   \n",
    "# 2. Substitui múltiplos espaços no meio por um único espaço\n",
    "    .str.replace(r'\\s+', ' ', regex=True)  \n",
    ")"
   ]
  },
  {
   "cell_type": "code",
   "execution_count": 14,
   "metadata": {},
   "outputs": [
    {
     "name": "stdout",
     "output_type": "stream",
     "text": [
      "Registros com espaço no início: 0\n",
      "Registros com espaço no fim: 0\n",
      "Registros com espaços múltiplos: 0\n"
     ]
    }
   ],
   "source": [
    "# Quantidade de registros com espaço no início\n",
    "espaco_inicio = dataset[dataset['nome'].str.match('^\\s+')].shape[0]\n",
    "print(f'Registros com espaço no início: {espaco_inicio}')\n",
    "\n",
    "# Quantidade de registros com espaço no fim\n",
    "espaco_fim = dataset[dataset['nome'].str.match('.*\\s+$')].shape[0]\n",
    "print(f'Registros com espaço no fim: {espaco_fim}')\n",
    "\n",
    "# Quantidade de registros com mais de um espaço entre palavras\n",
    "espaco_multiplo = dataset[dataset['nome'].str.contains('\\s{2,}')].shape[0]\n",
    "print(f'Registros com espaços múltiplos: {espaco_multiplo}')\n"
   ]
  },
  {
   "cell_type": "markdown",
   "metadata": {},
   "source": [
    "Os espaçamentos anormais foram removidos, em relação ao dataset \"sujo\" (df) e salvos no dataset \"limpo\" (dataset)."
   ]
  },
  {
   "cell_type": "markdown",
   "metadata": {
    "jp-MarkdownHeadingCollapsed": true
   },
   "source": [
    "###### Analisando nomes duplicados"
   ]
  },
  {
   "cell_type": "markdown",
   "metadata": {},
   "source": [
    "Os dadaos utilizados nessa sessão para comparar strings serão os dados já tratados na sessão anterior"
   ]
  },
  {
   "cell_type": "code",
   "execution_count": 15,
   "metadata": {},
   "outputs": [
    {
     "name": "stdout",
     "output_type": "stream",
     "text": [
      "Existem 667 nomes que aparecem mais de uma vez\n"
     ]
    }
   ],
   "source": [
    "# Calcular a quantidade de nomes duplicados\n",
    "duplicados = dataset['nome'].value_counts()[dataset['nome'].value_counts() > 1]\n",
    "print(f\"Existem {len(duplicados)} nomes que aparecem mais de uma vez\")"
   ]
  },
  {
   "cell_type": "code",
   "execution_count": 16,
   "metadata": {},
   "outputs": [
    {
     "name": "stdout",
     "output_type": "stream",
     "text": [
      "Detalhamento:\n",
      "\n",
      "Hillside Hotel                      18\n",
      "Home away from home                 17\n",
      "New york Multi-unit building        16\n",
      "Brooklyn Apartment                  12\n",
      "Loft Suite @ The Box House Hotel    11\n",
      "                                    ..\n",
      "Brooklyn Heights Oasis               2\n",
      "Prime East Village 1 Bedroom         2\n",
      "Greenpoint Apartment                 2\n",
      "Bensonhurst                          2\n",
      "Sweet Home                           2\n",
      "Name: nome, Length: 667, dtype: int64\n"
     ]
    }
   ],
   "source": [
    "# Mostrar quais nomes se repetem e quantas vezes\n",
    "print(\"Detalhamento:\\n\")\n",
    "print(duplicados)"
   ]
  },
  {
   "cell_type": "markdown",
   "metadata": {},
   "source": [
    "Alguns anúncios possuem o mesmo nome, o que pode indicar uma variedade de cenários:\n",
    "- Redes de hoteis, como \"Hillside Hotel\", por exemplo, podem cadastrar anúncios com o mesmo nome. A constatação pode ser analisada por serem anúncios do mesmo anfitrião (host). Nesse caso, esses imóveis que compartilham o mesmo anfitrião podem ter uma infraestrutura profissional, por exemplo, que influenciaria na popularidade deles.\n",
    "- Nomes genéricos, como \"Brooklyn Apartment\", que podem ser atribuídos por várias pessoas sem relação\n",
    "- 'nome nulo', anúncios cujos nomes eram nulos e foram alterados para essa string na limpeza de dados da sessão anterior."
   ]
  },
  {
   "cell_type": "code",
   "execution_count": 17,
   "metadata": {
    "scrolled": true
   },
   "outputs": [
    {
     "data": {
      "text/html": [
       "<div>\n",
       "<style scoped>\n",
       "    .dataframe tbody tr th:only-of-type {\n",
       "        vertical-align: middle;\n",
       "    }\n",
       "\n",
       "    .dataframe tbody tr th {\n",
       "        vertical-align: top;\n",
       "    }\n",
       "\n",
       "    .dataframe thead th {\n",
       "        text-align: right;\n",
       "    }\n",
       "</style>\n",
       "<table border=\"1\" class=\"dataframe\">\n",
       "  <thead>\n",
       "    <tr style=\"text-align: right;\">\n",
       "      <th></th>\n",
       "      <th>id</th>\n",
       "      <th>nome</th>\n",
       "      <th>host_id</th>\n",
       "      <th>host_name</th>\n",
       "      <th>bairro_group</th>\n",
       "      <th>bairro</th>\n",
       "      <th>latitude</th>\n",
       "      <th>longitude</th>\n",
       "      <th>room_type</th>\n",
       "      <th>price</th>\n",
       "      <th>minimo_noites</th>\n",
       "      <th>numero_de_reviews</th>\n",
       "      <th>ultima_review</th>\n",
       "      <th>reviews_por_mes</th>\n",
       "      <th>calculado_host_listings_count</th>\n",
       "      <th>disponibilidade_365</th>\n",
       "    </tr>\n",
       "  </thead>\n",
       "  <tbody>\n",
       "    <tr>\n",
       "      <th>26880</th>\n",
       "      <td>21312075</td>\n",
       "      <td>Hillside Hotel</td>\n",
       "      <td>134184451</td>\n",
       "      <td>Hillside Hotel</td>\n",
       "      <td>Queens</td>\n",
       "      <td>Jamaica</td>\n",
       "      <td>40.70333</td>\n",
       "      <td>-73.81380</td>\n",
       "      <td>Private room</td>\n",
       "      <td>135</td>\n",
       "      <td>1</td>\n",
       "      <td>0</td>\n",
       "      <td>NaN</td>\n",
       "      <td>NaN</td>\n",
       "      <td>18</td>\n",
       "      <td>365</td>\n",
       "    </tr>\n",
       "    <tr>\n",
       "      <th>26891</th>\n",
       "      <td>21312732</td>\n",
       "      <td>Hillside Hotel</td>\n",
       "      <td>134184451</td>\n",
       "      <td>Hillside Hotel</td>\n",
       "      <td>Queens</td>\n",
       "      <td>Briarwood</td>\n",
       "      <td>40.70455</td>\n",
       "      <td>-73.81528</td>\n",
       "      <td>Private room</td>\n",
       "      <td>135</td>\n",
       "      <td>1</td>\n",
       "      <td>0</td>\n",
       "      <td>NaN</td>\n",
       "      <td>NaN</td>\n",
       "      <td>18</td>\n",
       "      <td>309</td>\n",
       "    </tr>\n",
       "    <tr>\n",
       "      <th>26723</th>\n",
       "      <td>21231543</td>\n",
       "      <td>Hillside Hotel</td>\n",
       "      <td>134184451</td>\n",
       "      <td>Hillside Hotel</td>\n",
       "      <td>Queens</td>\n",
       "      <td>Jamaica</td>\n",
       "      <td>40.70428</td>\n",
       "      <td>-73.81353</td>\n",
       "      <td>Private room</td>\n",
       "      <td>135</td>\n",
       "      <td>1</td>\n",
       "      <td>0</td>\n",
       "      <td>NaN</td>\n",
       "      <td>NaN</td>\n",
       "      <td>18</td>\n",
       "      <td>365</td>\n",
       "    </tr>\n",
       "    <tr>\n",
       "      <th>26885</th>\n",
       "      <td>21312403</td>\n",
       "      <td>Hillside Hotel</td>\n",
       "      <td>134184451</td>\n",
       "      <td>Hillside Hotel</td>\n",
       "      <td>Queens</td>\n",
       "      <td>Jamaica</td>\n",
       "      <td>40.70423</td>\n",
       "      <td>-73.81440</td>\n",
       "      <td>Private room</td>\n",
       "      <td>165</td>\n",
       "      <td>1</td>\n",
       "      <td>0</td>\n",
       "      <td>NaN</td>\n",
       "      <td>NaN</td>\n",
       "      <td>18</td>\n",
       "      <td>362</td>\n",
       "    </tr>\n",
       "    <tr>\n",
       "      <th>24141</th>\n",
       "      <td>19456810</td>\n",
       "      <td>Hillside Hotel</td>\n",
       "      <td>134184451</td>\n",
       "      <td>Hillside Hotel</td>\n",
       "      <td>Queens</td>\n",
       "      <td>Briarwood</td>\n",
       "      <td>40.70454</td>\n",
       "      <td>-73.81549</td>\n",
       "      <td>Private room</td>\n",
       "      <td>93</td>\n",
       "      <td>1</td>\n",
       "      <td>2</td>\n",
       "      <td>2017-07-23</td>\n",
       "      <td>0.08</td>\n",
       "      <td>18</td>\n",
       "      <td>90</td>\n",
       "    </tr>\n",
       "  </tbody>\n",
       "</table>\n",
       "</div>"
      ],
      "text/plain": [
       "             id            nome    host_id       host_name bairro_group  \\\n",
       "26880  21312075  Hillside Hotel  134184451  Hillside Hotel       Queens   \n",
       "26891  21312732  Hillside Hotel  134184451  Hillside Hotel       Queens   \n",
       "26723  21231543  Hillside Hotel  134184451  Hillside Hotel       Queens   \n",
       "26885  21312403  Hillside Hotel  134184451  Hillside Hotel       Queens   \n",
       "24141  19456810  Hillside Hotel  134184451  Hillside Hotel       Queens   \n",
       "\n",
       "          bairro  latitude  longitude     room_type  price  minimo_noites  \\\n",
       "26880    Jamaica  40.70333  -73.81380  Private room    135              1   \n",
       "26891  Briarwood  40.70455  -73.81528  Private room    135              1   \n",
       "26723    Jamaica  40.70428  -73.81353  Private room    135              1   \n",
       "26885    Jamaica  40.70423  -73.81440  Private room    165              1   \n",
       "24141  Briarwood  40.70454  -73.81549  Private room     93              1   \n",
       "\n",
       "       numero_de_reviews ultima_review  reviews_por_mes  \\\n",
       "26880                  0           NaN              NaN   \n",
       "26891                  0           NaN              NaN   \n",
       "26723                  0           NaN              NaN   \n",
       "26885                  0           NaN              NaN   \n",
       "24141                  2    2017-07-23             0.08   \n",
       "\n",
       "       calculado_host_listings_count  disponibilidade_365  \n",
       "26880                             18                  365  \n",
       "26891                             18                  309  \n",
       "26723                             18                  365  \n",
       "26885                             18                  362  \n",
       "24141                             18                   90  "
      ]
     },
     "execution_count": 17,
     "metadata": {},
     "output_type": "execute_result"
    }
   ],
   "source": [
    "# Visualizando amostras de uma rede de hotéis Hillside Hotel\n",
    "dataset[dataset['nome'] == 'Hillside Hotel'].sample(n=5)"
   ]
  },
  {
   "cell_type": "markdown",
   "metadata": {},
   "source": [
    "Com esses dados é possível identificar que:\n",
    "- Hillside Hotel é um hotel estabelecido que gerencia vários quartos na plataforma\n",
    "- Todos os imóveis são administrados pelo mesmo proprietário (mesmo host_ID)\n",
    "- Estão localizados na mesma região (Queens)\n",
    "- Alta disponibilidade para reservas no ano"
   ]
  },
  {
   "cell_type": "code",
   "execution_count": 18,
   "metadata": {},
   "outputs": [
    {
     "data": {
      "text/html": [
       "<div>\n",
       "<style scoped>\n",
       "    .dataframe tbody tr th:only-of-type {\n",
       "        vertical-align: middle;\n",
       "    }\n",
       "\n",
       "    .dataframe tbody tr th {\n",
       "        vertical-align: top;\n",
       "    }\n",
       "\n",
       "    .dataframe thead th {\n",
       "        text-align: right;\n",
       "    }\n",
       "</style>\n",
       "<table border=\"1\" class=\"dataframe\">\n",
       "  <thead>\n",
       "    <tr style=\"text-align: right;\">\n",
       "      <th></th>\n",
       "      <th>id</th>\n",
       "      <th>nome</th>\n",
       "      <th>host_id</th>\n",
       "      <th>host_name</th>\n",
       "      <th>bairro_group</th>\n",
       "      <th>bairro</th>\n",
       "      <th>latitude</th>\n",
       "      <th>longitude</th>\n",
       "      <th>room_type</th>\n",
       "      <th>price</th>\n",
       "      <th>minimo_noites</th>\n",
       "      <th>numero_de_reviews</th>\n",
       "      <th>ultima_review</th>\n",
       "      <th>reviews_por_mes</th>\n",
       "      <th>calculado_host_listings_count</th>\n",
       "      <th>disponibilidade_365</th>\n",
       "    </tr>\n",
       "  </thead>\n",
       "  <tbody>\n",
       "    <tr>\n",
       "      <th>17836</th>\n",
       "      <td>13991526</td>\n",
       "      <td>Brooklyn Apartment</td>\n",
       "      <td>14512391</td>\n",
       "      <td>Thomas</td>\n",
       "      <td>Brooklyn</td>\n",
       "      <td>Greenpoint</td>\n",
       "      <td>40.72050</td>\n",
       "      <td>-73.94125</td>\n",
       "      <td>Entire home/apt</td>\n",
       "      <td>100</td>\n",
       "      <td>1</td>\n",
       "      <td>1</td>\n",
       "      <td>2018-01-01</td>\n",
       "      <td>0.05</td>\n",
       "      <td>1</td>\n",
       "      <td>0</td>\n",
       "    </tr>\n",
       "    <tr>\n",
       "      <th>35228</th>\n",
       "      <td>27951475</td>\n",
       "      <td>Brooklyn Apartment</td>\n",
       "      <td>168569105</td>\n",
       "      <td>Maka</td>\n",
       "      <td>Brooklyn</td>\n",
       "      <td>Bedford-Stuyvesant</td>\n",
       "      <td>40.69037</td>\n",
       "      <td>-73.92694</td>\n",
       "      <td>Private room</td>\n",
       "      <td>60</td>\n",
       "      <td>9</td>\n",
       "      <td>1</td>\n",
       "      <td>2019-04-09</td>\n",
       "      <td>0.33</td>\n",
       "      <td>1</td>\n",
       "      <td>83</td>\n",
       "    </tr>\n",
       "    <tr>\n",
       "      <th>33912</th>\n",
       "      <td>26868493</td>\n",
       "      <td>Brooklyn Apartment</td>\n",
       "      <td>202074215</td>\n",
       "      <td>Michael</td>\n",
       "      <td>Brooklyn</td>\n",
       "      <td>Bedford-Stuyvesant</td>\n",
       "      <td>40.68563</td>\n",
       "      <td>-73.91988</td>\n",
       "      <td>Entire home/apt</td>\n",
       "      <td>89</td>\n",
       "      <td>2</td>\n",
       "      <td>52</td>\n",
       "      <td>2019-07-05</td>\n",
       "      <td>4.38</td>\n",
       "      <td>2</td>\n",
       "      <td>18</td>\n",
       "    </tr>\n",
       "    <tr>\n",
       "      <th>19438</th>\n",
       "      <td>15513127</td>\n",
       "      <td>Brooklyn Apartment</td>\n",
       "      <td>62644193</td>\n",
       "      <td>Elle</td>\n",
       "      <td>Brooklyn</td>\n",
       "      <td>East Flatbush</td>\n",
       "      <td>40.64335</td>\n",
       "      <td>-73.92981</td>\n",
       "      <td>Private room</td>\n",
       "      <td>70</td>\n",
       "      <td>1</td>\n",
       "      <td>0</td>\n",
       "      <td>NaN</td>\n",
       "      <td>NaN</td>\n",
       "      <td>1</td>\n",
       "      <td>157</td>\n",
       "    </tr>\n",
       "    <tr>\n",
       "      <th>21738</th>\n",
       "      <td>17481484</td>\n",
       "      <td>Brooklyn Apartment</td>\n",
       "      <td>118430352</td>\n",
       "      <td>Austin</td>\n",
       "      <td>Brooklyn</td>\n",
       "      <td>Crown Heights</td>\n",
       "      <td>40.67519</td>\n",
       "      <td>-73.94020</td>\n",
       "      <td>Private room</td>\n",
       "      <td>75</td>\n",
       "      <td>1</td>\n",
       "      <td>0</td>\n",
       "      <td>NaN</td>\n",
       "      <td>NaN</td>\n",
       "      <td>1</td>\n",
       "      <td>0</td>\n",
       "    </tr>\n",
       "  </tbody>\n",
       "</table>\n",
       "</div>"
      ],
      "text/plain": [
       "             id                nome    host_id host_name bairro_group  \\\n",
       "17836  13991526  Brooklyn Apartment   14512391    Thomas     Brooklyn   \n",
       "35228  27951475  Brooklyn Apartment  168569105      Maka     Brooklyn   \n",
       "33912  26868493  Brooklyn Apartment  202074215   Michael     Brooklyn   \n",
       "19438  15513127  Brooklyn Apartment   62644193      Elle     Brooklyn   \n",
       "21738  17481484  Brooklyn Apartment  118430352    Austin     Brooklyn   \n",
       "\n",
       "                   bairro  latitude  longitude        room_type  price  \\\n",
       "17836          Greenpoint  40.72050  -73.94125  Entire home/apt    100   \n",
       "35228  Bedford-Stuyvesant  40.69037  -73.92694     Private room     60   \n",
       "33912  Bedford-Stuyvesant  40.68563  -73.91988  Entire home/apt     89   \n",
       "19438       East Flatbush  40.64335  -73.92981     Private room     70   \n",
       "21738       Crown Heights  40.67519  -73.94020     Private room     75   \n",
       "\n",
       "       minimo_noites  numero_de_reviews ultima_review  reviews_por_mes  \\\n",
       "17836              1                  1    2018-01-01             0.05   \n",
       "35228              9                  1    2019-04-09             0.33   \n",
       "33912              2                 52    2019-07-05             4.38   \n",
       "19438              1                  0           NaN              NaN   \n",
       "21738              1                  0           NaN              NaN   \n",
       "\n",
       "       calculado_host_listings_count  disponibilidade_365  \n",
       "17836                              1                    0  \n",
       "35228                              1                   83  \n",
       "33912                              2                   18  \n",
       "19438                              1                  157  \n",
       "21738                              1                    0  "
      ]
     },
     "execution_count": 18,
     "metadata": {},
     "output_type": "execute_result"
    }
   ],
   "source": [
    "# Visualizando amostras de nomes genéricos Brooklyn Apartment\n",
    "dataset[dataset['nome'] == 'Brooklyn Apartment'].sample(n=5)"
   ]
  },
  {
   "cell_type": "markdown",
   "metadata": {},
   "source": [
    "Com esses dados é possível identificar que:\n",
    "- Brooklin Apartment é um exemplo claro de nome genérico sendo usado por diferentes proprietários\n",
    "- Os imóveis são administrados por anfitriões diferentes e independentes (diferentes host_ID)\n",
    "- Localizados em bairros diferentes do Brooklyn\n",
    "- Mistura de apartamentos inteiros e quartos privados"
   ]
  },
  {
   "cell_type": "code",
   "execution_count": 19,
   "metadata": {},
   "outputs": [
    {
     "data": {
      "text/html": [
       "<div>\n",
       "<style scoped>\n",
       "    .dataframe tbody tr th:only-of-type {\n",
       "        vertical-align: middle;\n",
       "    }\n",
       "\n",
       "    .dataframe tbody tr th {\n",
       "        vertical-align: top;\n",
       "    }\n",
       "\n",
       "    .dataframe thead th {\n",
       "        text-align: right;\n",
       "    }\n",
       "</style>\n",
       "<table border=\"1\" class=\"dataframe\">\n",
       "  <thead>\n",
       "    <tr style=\"text-align: right;\">\n",
       "      <th></th>\n",
       "      <th>id</th>\n",
       "      <th>nome</th>\n",
       "      <th>host_id</th>\n",
       "      <th>host_name</th>\n",
       "      <th>bairro_group</th>\n",
       "      <th>bairro</th>\n",
       "      <th>latitude</th>\n",
       "      <th>longitude</th>\n",
       "      <th>room_type</th>\n",
       "      <th>price</th>\n",
       "      <th>minimo_noites</th>\n",
       "      <th>numero_de_reviews</th>\n",
       "      <th>ultima_review</th>\n",
       "      <th>reviews_por_mes</th>\n",
       "      <th>calculado_host_listings_count</th>\n",
       "      <th>disponibilidade_365</th>\n",
       "    </tr>\n",
       "  </thead>\n",
       "  <tbody>\n",
       "    <tr>\n",
       "      <th>3701</th>\n",
       "      <td>2232600</td>\n",
       "      <td>nome nulo</td>\n",
       "      <td>11395220</td>\n",
       "      <td>Anna</td>\n",
       "      <td>Manhattan</td>\n",
       "      <td>East Village</td>\n",
       "      <td>40.73215</td>\n",
       "      <td>-73.98821</td>\n",
       "      <td>Entire home/apt</td>\n",
       "      <td>200</td>\n",
       "      <td>1</td>\n",
       "      <td>28</td>\n",
       "      <td>2015-06-08</td>\n",
       "      <td>0.45</td>\n",
       "      <td>1</td>\n",
       "      <td>341</td>\n",
       "    </tr>\n",
       "    <tr>\n",
       "      <th>5773</th>\n",
       "      <td>4209595</td>\n",
       "      <td>nome nulo</td>\n",
       "      <td>20700823</td>\n",
       "      <td>Jesse</td>\n",
       "      <td>Manhattan</td>\n",
       "      <td>Greenwich Village</td>\n",
       "      <td>40.73473</td>\n",
       "      <td>-73.99244</td>\n",
       "      <td>Entire home/apt</td>\n",
       "      <td>225</td>\n",
       "      <td>1</td>\n",
       "      <td>1</td>\n",
       "      <td>2015-01-01</td>\n",
       "      <td>0.02</td>\n",
       "      <td>1</td>\n",
       "      <td>0</td>\n",
       "    </tr>\n",
       "    <tr>\n",
       "      <th>5973</th>\n",
       "      <td>4370230</td>\n",
       "      <td>nome nulo</td>\n",
       "      <td>22686810</td>\n",
       "      <td>Michaël</td>\n",
       "      <td>Manhattan</td>\n",
       "      <td>Nolita</td>\n",
       "      <td>40.72046</td>\n",
       "      <td>-73.99550</td>\n",
       "      <td>Entire home/apt</td>\n",
       "      <td>215</td>\n",
       "      <td>7</td>\n",
       "      <td>5</td>\n",
       "      <td>2016-01-02</td>\n",
       "      <td>0.09</td>\n",
       "      <td>1</td>\n",
       "      <td>0</td>\n",
       "    </tr>\n",
       "    <tr>\n",
       "      <th>11957</th>\n",
       "      <td>9325951</td>\n",
       "      <td>nome nulo</td>\n",
       "      <td>33377685</td>\n",
       "      <td>Jonathan</td>\n",
       "      <td>Manhattan</td>\n",
       "      <td>Hell's Kitchen</td>\n",
       "      <td>40.76436</td>\n",
       "      <td>-73.98573</td>\n",
       "      <td>Entire home/apt</td>\n",
       "      <td>190</td>\n",
       "      <td>4</td>\n",
       "      <td>1</td>\n",
       "      <td>2016-01-05</td>\n",
       "      <td>0.02</td>\n",
       "      <td>1</td>\n",
       "      <td>0</td>\n",
       "    </tr>\n",
       "    <tr>\n",
       "      <th>13393</th>\n",
       "      <td>10052289</td>\n",
       "      <td>nome nulo</td>\n",
       "      <td>49522403</td>\n",
       "      <td>Vanessa</td>\n",
       "      <td>Brooklyn</td>\n",
       "      <td>Brownsville</td>\n",
       "      <td>40.66409</td>\n",
       "      <td>-73.92314</td>\n",
       "      <td>Private room</td>\n",
       "      <td>50</td>\n",
       "      <td>3</td>\n",
       "      <td>3</td>\n",
       "      <td>2016-08-18</td>\n",
       "      <td>0.07</td>\n",
       "      <td>1</td>\n",
       "      <td>362</td>\n",
       "    </tr>\n",
       "    <tr>\n",
       "      <th>28878</th>\n",
       "      <td>22275821</td>\n",
       "      <td>nome nulo</td>\n",
       "      <td>49662398</td>\n",
       "      <td>Kathleen</td>\n",
       "      <td>Brooklyn</td>\n",
       "      <td>Bushwick</td>\n",
       "      <td>40.69546</td>\n",
       "      <td>-73.92741</td>\n",
       "      <td>Entire home/apt</td>\n",
       "      <td>110</td>\n",
       "      <td>4</td>\n",
       "      <td>5</td>\n",
       "      <td>2018-08-13</td>\n",
       "      <td>0.27</td>\n",
       "      <td>1</td>\n",
       "      <td>0</td>\n",
       "    </tr>\n",
       "  </tbody>\n",
       "</table>\n",
       "</div>"
      ],
      "text/plain": [
       "             id       nome   host_id host_name bairro_group  \\\n",
       "3701    2232600  nome nulo  11395220      Anna    Manhattan   \n",
       "5773    4209595  nome nulo  20700823     Jesse    Manhattan   \n",
       "5973    4370230  nome nulo  22686810   Michaël    Manhattan   \n",
       "11957   9325951  nome nulo  33377685  Jonathan    Manhattan   \n",
       "13393  10052289  nome nulo  49522403   Vanessa     Brooklyn   \n",
       "28878  22275821  nome nulo  49662398  Kathleen     Brooklyn   \n",
       "\n",
       "                  bairro  latitude  longitude        room_type  price  \\\n",
       "3701        East Village  40.73215  -73.98821  Entire home/apt    200   \n",
       "5773   Greenwich Village  40.73473  -73.99244  Entire home/apt    225   \n",
       "5973              Nolita  40.72046  -73.99550  Entire home/apt    215   \n",
       "11957     Hell's Kitchen  40.76436  -73.98573  Entire home/apt    190   \n",
       "13393        Brownsville  40.66409  -73.92314     Private room     50   \n",
       "28878           Bushwick  40.69546  -73.92741  Entire home/apt    110   \n",
       "\n",
       "       minimo_noites  numero_de_reviews ultima_review  reviews_por_mes  \\\n",
       "3701               1                 28    2015-06-08             0.45   \n",
       "5773               1                  1    2015-01-01             0.02   \n",
       "5973               7                  5    2016-01-02             0.09   \n",
       "11957              4                  1    2016-01-05             0.02   \n",
       "13393              3                  3    2016-08-18             0.07   \n",
       "28878              4                  5    2018-08-13             0.27   \n",
       "\n",
       "       calculado_host_listings_count  disponibilidade_365  \n",
       "3701                               1                  341  \n",
       "5773                               1                    0  \n",
       "5973                               1                    0  \n",
       "11957                              1                    0  \n",
       "13393                              1                  362  \n",
       "28878                              1                    0  "
      ]
     },
     "execution_count": 19,
     "metadata": {},
     "output_type": "execute_result"
    }
   ],
   "source": [
    "# Visualizando os anúncios com nome nulo\n",
    "dataset[dataset['nome'] == 'nome nulo']"
   ]
  },
  {
   "cell_type": "markdown",
   "metadata": {},
   "source": [
    "Não há nada de especial, apenas foram reúnidos com o mesmo nome que não é um espaço nulo. posteriormente será utilizado"
   ]
  },
  {
   "cell_type": "markdown",
   "metadata": {},
   "source": [
    "##### Coluna: host_id"
   ]
  },
  {
   "cell_type": "markdown",
   "metadata": {},
   "source": [
    "Conforme visualizado anteriormente, as informações para a coluna host_id:\n",
    "- Representa o id do usuário que hospedou o anúncio.\n",
    "- Não há valores nulos.\n",
    "- Não há valores negativos.\n",
    "- tem o tipo int64.\n",
    "    \n",
    "Procedimentos:\n",
    "- Calcular hosts diferentes e quantas vezes aparecem"
   ]
  },
  {
   "cell_type": "markdown",
   "metadata": {},
   "source": [
    "###### Calculando host_id"
   ]
  },
  {
   "cell_type": "code",
   "execution_count": 77,
   "metadata": {},
   "outputs": [
    {
     "name": "stdout",
     "output_type": "stream",
     "text": [
      "Existem 37449 host_id que aparecem pelo menos uma vez\n"
     ]
    }
   ],
   "source": [
    "# Calcular a quantidade de host_id diferentes\n",
    "diferentes = dataset['host_id'].value_counts()[dataset['host_id'].value_counts() >= 1]\n",
    "print(f\"Existem {len(diferentes)} host_id que aparecem pelo menos uma vez\")"
   ]
  },
  {
   "cell_type": "code",
   "execution_count": 78,
   "metadata": {},
   "outputs": [
    {
     "name": "stdout",
     "output_type": "stream",
     "text": [
      "Média de anúncios por anfitrião: 1.3056156372666827\n"
     ]
    }
   ],
   "source": [
    "print(f\"Média de anúncios por anfitrião: {len(df)/len(diferentes)}\")"
   ]
  },
  {
   "cell_type": "code",
   "execution_count": 79,
   "metadata": {},
   "outputs": [
    {
     "name": "stdout",
     "output_type": "stream",
     "text": [
      "Detalhamento:\n",
      " 219517861    327\n",
      "107434423    232\n",
      "30283594     121\n",
      "137358866    103\n",
      "16098958      96\n",
      "            ... \n",
      "69548489       1\n",
      "18111963       1\n",
      "69545387       1\n",
      "48154615       1\n",
      "68119814       1\n",
      "Name: host_id, Length: 37449, dtype: int64\n"
     ]
    }
   ],
   "source": [
    "# Mostrar quais host_id diferentes existem e quantas vezes se repetem\n",
    "print(\"Detalhamento:\\n\", diferentes)"
   ]
  },
  {
   "cell_type": "markdown",
   "metadata": {},
   "source": [
    "O dataset revela que 37449 anfitriões têm pelo menos um anúncio. Enquanto alguns gerenciam centenas de imóveis, a maioria aluga apenas um ou poucos, evidenciado pela média 1,31. Essa dinâmica sugere duas classes principais de negócios: aluguéis de proprietários individuais alugando suas próprias residências e operações profissionais de hospedagem. "
   ]
  },
  {
   "cell_type": "markdown",
   "metadata": {
    "jp-MarkdownHeadingCollapsed": true
   },
   "source": [
    "##### Coluna: host_name"
   ]
  },
  {
   "cell_type": "markdown",
   "metadata": {},
   "source": [
    "Conforme visualizado anteriormente, as informações para a coluna host_name:\n",
    "- Contém o nome do usuário que hospedou o anúncio\n",
    "- Há 21 valores nulos.\n",
    "- tem o tipo object.\n",
    "    \n",
    "Procedimentos:\n",
    "- Analisar necessidade de remover espaçamentos extra,\n",
    "- Tratar os valores nulos.\n",
    "- Analisar consistência da correspondência de um host_name para um host_id, para anúncios do mesmo host,"
   ]
  },
  {
   "cell_type": "markdown",
   "metadata": {},
   "source": [
    "###### Analisando espaços"
   ]
  },
  {
   "cell_type": "code",
   "execution_count": 21,
   "metadata": {},
   "outputs": [
    {
     "data": {
      "text/plain": [
       "Espaços no início     0\n",
       "Espaços no fim        0\n",
       "Múltiplos espaços    41\n",
       "dtype: int64"
      ]
     },
     "execution_count": 21,
     "metadata": {},
     "output_type": "execute_result"
    }
   ],
   "source": [
    "# Análise dos espaços no início, sim e meio\n",
    "analise_espacos = {\n",
    "    'Espaços no início': df['host_name'].str.match('^\\s+').sum(),\n",
    "    'Espaços no fim': df['host_name'].str.match('.*\\s+$').sum(),\n",
    "    'Múltiplos espaços': df['host_name'].str.contains(r'\\s{2,}').sum()\n",
    "}\n",
    "# Exibindo resultados\n",
    "pd.Series(analise_espacos)"
   ]
  },
  {
   "cell_type": "markdown",
   "metadata": {},
   "source": [
    "A presença de espaços anormais múltiplos entre palavras prejudicam a qualidade dos dados de texto, prejudicando, por exemplo, a comparação de strings da próxima etapa. Por isso serão removidos."
   ]
  },
  {
   "cell_type": "code",
   "execution_count": 22,
   "metadata": {},
   "outputs": [],
   "source": [
    "# Atualizando o dataset limpo \n",
    "dataset['host_name'] = (dataset['host_name']               \n",
    "# 1. Substitui múltiplos espaços no meio por um único espaço\n",
    "    .str.replace(r'\\s+', ' ', regex=True)  \n",
    ")"
   ]
  },
  {
   "cell_type": "code",
   "execution_count": 23,
   "metadata": {},
   "outputs": [
    {
     "data": {
      "text/plain": [
       "Múltiplos espaços    0\n",
       "dtype: int64"
      ]
     },
     "execution_count": 23,
     "metadata": {},
     "output_type": "execute_result"
    }
   ],
   "source": [
    "# Análise dos espaços no meio\n",
    "analise_espacos = {\n",
    "    'Múltiplos espaços': dataset['host_name'].str.contains(r'\\s{2,}').sum()\n",
    "}\n",
    "# Exibindo resultados\n",
    "pd.Series(analise_espacos)"
   ]
  },
  {
   "cell_type": "markdown",
   "metadata": {},
   "source": [
    "Os espaçamentos anormais foram removidos, em relação ao dataset \"sujo\" (df) e salvos no dataset \"limpo\" (dataset)."
   ]
  },
  {
   "cell_type": "markdown",
   "metadata": {},
   "source": [
    "###### Tratando valores nulos"
   ]
  },
  {
   "cell_type": "code",
   "execution_count": 24,
   "metadata": {},
   "outputs": [
    {
     "data": {
      "text/plain": [
       "21"
      ]
     },
     "execution_count": 24,
     "metadata": {},
     "output_type": "execute_result"
    }
   ],
   "source": [
    "# Contar valores nulos em host_name\n",
    "df['host_name'].isnull().sum()"
   ]
  },
  {
   "cell_type": "code",
   "execution_count": 25,
   "metadata": {},
   "outputs": [],
   "source": [
    "# Substitui os espaços nulos por 'nome nulo'\n",
    "dataset['host_name'] = dataset['host_name'].fillna('nome nulo')"
   ]
  },
  {
   "cell_type": "code",
   "execution_count": 26,
   "metadata": {},
   "outputs": [
    {
     "data": {
      "text/plain": [
       "0"
      ]
     },
     "execution_count": 26,
     "metadata": {},
     "output_type": "execute_result"
    }
   ],
   "source": [
    "# Contar valores nulos em host_name\n",
    "dataset['host_name'].isnull().sum()"
   ]
  },
  {
   "cell_type": "markdown",
   "metadata": {},
   "source": [
    "###### Analisando consistência"
   ]
  },
  {
   "cell_type": "code",
   "execution_count": 27,
   "metadata": {},
   "outputs": [],
   "source": [
    "# Identificando host_ids com diferentes host_names\n",
    "\n",
    "# Identficar anúncios com host_ids duplicados\n",
    "anuncios_duplicados = dataset[dataset['host_id'].duplicated(keep=False)]\n",
    "\n",
    "# Identificar nomes diferentes para o mesmo id_host\n",
    "nomes_diferentes = anuncios_duplicados.groupby('host_id')['host_name'].nunique() > 1\n",
    "\n",
    "# Exibir resultados\n",
    "if nomes_diferentes.any():\n",
    "   print(nomes_diferentes[nomes_diferentes])"
   ]
  },
  {
   "cell_type": "markdown",
   "metadata": {},
   "source": [
    "Foi identificado a existência de apenas um host_name para cada host_id no dataset. Por tanto, está consistente."
   ]
  },
  {
   "cell_type": "markdown",
   "metadata": {
    "jp-MarkdownHeadingCollapsed": true
   },
   "source": [
    "##### Coluna: bairro_group"
   ]
  },
  {
   "cell_type": "markdown",
   "metadata": {},
   "source": [
    "Conforme visualizado anteriormente, as informações para a coluna bairro_group:\n",
    "- Contém o nome do bairro onde o anúncio está localizado\n",
    "- Não há bairro_group nulo\n",
    "- Tem o tipo object.\n",
    "    \n",
    "Procedimentos:\n",
    "- Analisar necessidade de remover espaçamentos extra\n",
    "- Analisar grafia correta de diferentes bairro_group"
   ]
  },
  {
   "cell_type": "markdown",
   "metadata": {},
   "source": [
    "###### Analisando espaçamentos extra"
   ]
  },
  {
   "cell_type": "code",
   "execution_count": 28,
   "metadata": {},
   "outputs": [
    {
     "name": "stdout",
     "output_type": "stream",
     "text": [
      "Registros com espaço no início: 0\n",
      "Registros com espaço no fim: 0\n",
      "Registros com espaços múltiplos: 0\n"
     ]
    }
   ],
   "source": [
    "# Quantidade de registros com espaço no início\n",
    "espaco_inicio = df[df['bairro_group'].str.match('^\\s+')].shape[0]\n",
    "print(f'Registros com espaço no início: {espaco_inicio}')\n",
    "\n",
    "# Quantidade de registros com espaço no fim\n",
    "espaco_fim = df[df['bairro_group'].str.match('.*\\s+$')].shape[0]\n",
    "print(f'Registros com espaço no fim: {espaco_fim}')\n",
    "\n",
    "# Quantidade de registros com mais de um espaço entre palavras\n",
    "espaco_multiplo = df[df['bairro_group'].str.contains('\\s{2,}')].shape[0]\n",
    "print(f'Registros com espaços múltiplos: {espaco_multiplo}')"
   ]
  },
  {
   "cell_type": "markdown",
   "metadata": {},
   "source": [
    "Aparentemente não há necessidade de limpeza"
   ]
  },
  {
   "cell_type": "markdown",
   "metadata": {},
   "source": [
    "###### Analisando grafia dos nomes"
   ]
  },
  {
   "cell_type": "code",
   "execution_count": 29,
   "metadata": {},
   "outputs": [
    {
     "name": "stdout",
     "output_type": "stream",
     "text": [
      "Existem 5 bairro_group que aparecem pelo menos uma vez\n"
     ]
    }
   ],
   "source": [
    "# Calcular a quantidade de bairro_group duplicados\n",
    "disponiveis = df['bairro_group'].value_counts()[df['bairro_group'].value_counts() >= 1]\n",
    "print(f\"Existem {len(disponiveis)} bairro_group que aparecem pelo menos uma vez\")"
   ]
  },
  {
   "cell_type": "code",
   "execution_count": 30,
   "metadata": {},
   "outputs": [
    {
     "name": "stdout",
     "output_type": "stream",
     "text": [
      "Detalhamento:\n",
      " Manhattan        21661\n",
      "Brooklyn         20103\n",
      "Queens            5666\n",
      "Bronx             1091\n",
      "Staten Island      373\n",
      "Name: bairro_group, dtype: int64\n"
     ]
    }
   ],
   "source": [
    "# Mostrar quais bairro_group se repetem e quantas vezes\n",
    "print(\"Detalhamento:\\n\",disponiveis)"
   ]
  },
  {
   "cell_type": "markdown",
   "metadata": {},
   "source": [
    "Esses dados sugerem que a grafia dos grupos de bairro_group estão corretas"
   ]
  },
  {
   "cell_type": "markdown",
   "metadata": {},
   "source": [
    "##### Coluna: bairro"
   ]
  },
  {
   "cell_type": "markdown",
   "metadata": {},
   "source": [
    "Conforme visualizado anteriormente, as informações para a coluna bairro:\n",
    "- Contém o nome do bairro onde o anúncio está localizado\n",
    "- Não há bairro nulo\n",
    "- Tem o tipo object.\n",
    "    \n",
    "Procedimentos:\n",
    "- Analisar necessidade de remover espaçamentos extra\n",
    "- Analisar grafia correta de diferentes bairro_group"
   ]
  },
  {
   "cell_type": "markdown",
   "metadata": {},
   "source": [
    "###### Analisando espaçamentos extra"
   ]
  },
  {
   "cell_type": "code",
   "execution_count": 31,
   "metadata": {},
   "outputs": [
    {
     "name": "stdout",
     "output_type": "stream",
     "text": [
      "Registros com espaço no início: 0\n",
      "Registros com espaço no fim: 0\n",
      "Registros com espaços múltiplos: 0\n"
     ]
    }
   ],
   "source": [
    "# Quantidade de registros com espaço no início\n",
    "espaco_inicio = df[df['bairro'].str.match('^\\s+')].shape[0]\n",
    "print(f'Registros com espaço no início: {espaco_inicio}')\n",
    "\n",
    "# Quantidade de registros com espaço no fim\n",
    "espaco_fim = df[df['bairro'].str.match('.*\\s+$')].shape[0]\n",
    "print(f'Registros com espaço no fim: {espaco_fim}')\n",
    "\n",
    "# Quantidade de registros com mais de um espaço entre palavras\n",
    "espaco_multiplo = df[df['bairro'].str.contains('\\s{2,}')].shape[0]\n",
    "print(f'Registros com espaços múltiplos: {espaco_multiplo}')"
   ]
  },
  {
   "cell_type": "markdown",
   "metadata": {},
   "source": [
    "Aparentemente não há necessidade de limpeza"
   ]
  },
  {
   "cell_type": "markdown",
   "metadata": {},
   "source": [
    "###### Analisando grafia dos nomes"
   ]
  },
  {
   "cell_type": "code",
   "execution_count": 32,
   "metadata": {},
   "outputs": [
    {
     "name": "stdout",
     "output_type": "stream",
     "text": [
      "Existem 221 bairros que aparecem pelo menos uma vez\n"
     ]
    }
   ],
   "source": [
    "# Calcular a quantidade de bairros disponíveis\n",
    "disponiveis = df['bairro'].value_counts()[df['bairro'].value_counts() >= 1].sort_index()\n",
    "print(f\"Existem {len(disponiveis)} bairros que aparecem pelo menos uma vez\")"
   ]
  },
  {
   "cell_type": "code",
   "execution_count": 33,
   "metadata": {},
   "outputs": [
    {
     "name": "stdout",
     "output_type": "stream",
     "text": [
      "Detalhamento:\n",
      " Allerton            42\n",
      "Arden Heights        4\n",
      "Arrochar            21\n",
      "Arverne             77\n",
      "Astoria            900\n",
      "                  ... \n",
      "Windsor Terrace    157\n",
      "Woodhaven           88\n",
      "Woodlawn            11\n",
      "Woodrow              1\n",
      "Woodside           235\n",
      "Name: bairro, Length: 221, dtype: int64\n"
     ]
    }
   ],
   "source": [
    "# Mostrar quais bairros disponiveis e quantas vezes aparecem\n",
    "print(\"Detalhamento:\\n\",disponiveis)"
   ]
  },
  {
   "cell_type": "markdown",
   "metadata": {},
   "source": [
    "Esses dados, organizados em ordem alfbética, permitiram uma análise comparativa entre bairros com muitas e poucas ocorrências no dataset. Bairros de muitas ocorrências sugerem que a grafia está correta pois foi escolhida várias vezes para o anúncio. A análise manual do texto de amostras com grafia próxima (ordem alfabética), mas com ocorrências variadas, sugere que a grafia dos bairros estão corretas, o que sugere que as diferenças observadas refletem bairros distintos e não erros de digitação."
   ]
  },
  {
   "cell_type": "markdown",
   "metadata": {
    "jp-MarkdownHeadingCollapsed": true
   },
   "source": [
    "##### Colunas: Latitude e Longitude"
   ]
  },
  {
   "cell_type": "markdown",
   "metadata": {},
   "source": [
    "Conforme visualizado anteriormente, as informações para as colunas latitude e longitude:\n",
    "- Contêm a latitude e a longitude do local.\n",
    "- Não há valores nulos.\n",
    "- Têm o tipo float64.\n",
    "- O desafio indica que as coordenadas pertencem à cidade de NovaYork\n",
    "    \n",
    "Não aparentam nenhum problema"
   ]
  },
  {
   "cell_type": "markdown",
   "metadata": {
    "jp-MarkdownHeadingCollapsed": true
   },
   "source": [
    "##### Coluna: room_type"
   ]
  },
  {
   "cell_type": "markdown",
   "metadata": {},
   "source": [
    "Conforme visualizado anteriormente, as informações para a coluna room_tyoe:\n",
    "- Contém o tipo de espaço de cada anúncio.\n",
    "- Não há valores nulos.\n",
    "- Tem o tipo object.\n",
    "\n",
    "Procedimento:\n",
    "- Verificar os tipos e se as grafias estão corretas"
   ]
  },
  {
   "cell_type": "code",
   "execution_count": 34,
   "metadata": {},
   "outputs": [
    {
     "name": "stdout",
     "output_type": "stream",
     "text": [
      "Existem 3 tipos que aparecem pelo menos uma vez\n"
     ]
    }
   ],
   "source": [
    "# Calcular a quantidade de room_type duplicados\n",
    "disponiveis = df['room_type'].value_counts()[df['room_type'].value_counts() >= 1]\n",
    "print(f\"Existem {len(disponiveis)} tipos que aparecem pelo menos uma vez\")"
   ]
  },
  {
   "cell_type": "code",
   "execution_count": 35,
   "metadata": {},
   "outputs": [
    {
     "name": "stdout",
     "output_type": "stream",
     "text": [
      "Detalhamento:\n",
      " Entire home/apt    25409\n",
      "Private room       22325\n",
      "Shared room         1160\n",
      "Name: room_type, dtype: int64\n"
     ]
    }
   ],
   "source": [
    "# Mostrar quais room_type se repetem e quantas vezes\n",
    "print(\"Detalhamento:\\n\",disponiveis)"
   ]
  },
  {
   "cell_type": "markdown",
   "metadata": {},
   "source": [
    "Foi constatado a existência de três opções para room_type, de grafia corretas, portanto não será necessário a limpeza"
   ]
  },
  {
   "cell_type": "markdown",
   "metadata": {
    "jp-MarkdownHeadingCollapsed": true
   },
   "source": [
    "##### Coluna: price"
   ]
  },
  {
   "cell_type": "markdown",
   "metadata": {},
   "source": [
    "Conforme visualizado anteriormente, as informações para a coluna price:\n",
    "- Não há valores nulos na coluna price.\n",
    "- Não há valores negativos.\n",
    "- Existe valores zero na coluna.\n",
    "- Desvio padrão é 240 (alto)\n",
    "- A média da coluna é 152.\n",
    "- Tem o tipo int64.\n",
    "\n",
    "Procedimentos:\n",
    "- Analisar valores improváveis"
   ]
  },
  {
   "cell_type": "markdown",
   "metadata": {},
   "source": [
    "###### Analisando valores improváveis"
   ]
  },
  {
   "cell_type": "markdown",
   "metadata": {},
   "source": [
    "A análise inicial da coluna price sugere a presença de outliers, já que o desvio padrão (240) é alto em relação à média (152). Além disso, a existência de valores zero levanta dúvidas sobre a distribuição dos dados. Farei uma análise para investigar essas variações."
   ]
  },
  {
   "cell_type": "code",
   "execution_count": 36,
   "metadata": {},
   "outputs": [
    {
     "name": "stdout",
     "output_type": "stream",
     "text": [
      "Existem 674 preços que aparecem pelo menos uma vez\n"
     ]
    }
   ],
   "source": [
    "# Calcular a quantidade de price diferentes\n",
    "diferentes = df['price'].value_counts()[df['price'].value_counts() >= 1].sort_index()\n",
    "print(f\"Existem {len(diferentes)} preços que aparecem pelo menos uma vez\")"
   ]
  },
  {
   "cell_type": "code",
   "execution_count": 37,
   "metadata": {},
   "outputs": [
    {
     "name": "stdout",
     "output_type": "stream",
     "text": [
      "Detalhamento:\n",
      " 0        11\n",
      "10       17\n",
      "11        3\n",
      "12        4\n",
      "13        1\n",
      "         ..\n",
      "7703      1\n",
      "8000      1\n",
      "8500      1\n",
      "9999      3\n",
      "10000     3\n",
      "Name: price, Length: 674, dtype: int64\n"
     ]
    }
   ],
   "source": [
    "# Mostrar quais price diferentes existem e quantas vezes se repetem\n",
    "print(\"Detalhamento:\\n\", diferentes)\n"
   ]
  },
  {
   "cell_type": "markdown",
   "metadata": {},
   "source": [
    "Os valores da coluna price estão distribuídos de forma irregular, com algumas variações extremas. Isso pode indicar a presença de outliers ou inconsistências nos dados. Durante a Análise Exploratória de Dados (AED), será investigado essa distribuição e aplicado os ajustes necessários."
   ]
  },
  {
   "cell_type": "markdown",
   "metadata": {
    "jp-MarkdownHeadingCollapsed": true
   },
   "source": [
    "##### Coluna: minimo_noites"
   ]
  },
  {
   "cell_type": "markdown",
   "metadata": {},
   "source": [
    "Conforme visualizado anteriormente, as informações para a coluna minimo_noites:\n",
    "- Não há valores nulos na coluna minimo_noites.\n",
    "- Não há valores negativos.\n",
    "- Tem o tipo int64.\n",
    "\n",
    "Procedimentos:\n",
    "- Analisar valores improváveis"
   ]
  },
  {
   "cell_type": "markdown",
   "metadata": {},
   "source": [
    "###### Analisando valores improváveis"
   ]
  },
  {
   "cell_type": "code",
   "execution_count": 38,
   "metadata": {},
   "outputs": [
    {
     "name": "stdout",
     "output_type": "stream",
     "text": [
      "Existem 109 minimo_noites que aparecem pelo menos uma vez\n"
     ]
    }
   ],
   "source": [
    "# Calcular a quantidade de minimo_noites diferentes\n",
    "diferentes = df['minimo_noites'].value_counts()[df['minimo_noites'].value_counts() >= 1].sort_index()\n",
    "print(f\"Existem {len(diferentes)} minimo_noites que aparecem pelo menos uma vez\")"
   ]
  },
  {
   "cell_type": "code",
   "execution_count": 39,
   "metadata": {},
   "outputs": [
    {
     "name": "stdout",
     "output_type": "stream",
     "text": [
      "Detalhamento:\n",
      " 1       12719\n",
      "2       11696\n",
      "3        7999\n",
      "4        3303\n",
      "5        3034\n",
      "        ...  \n",
      "480         1\n",
      "500         5\n",
      "999         3\n",
      "1000        1\n",
      "1250        1\n",
      "Name: minimo_noites, Length: 109, dtype: int64\n"
     ]
    }
   ],
   "source": [
    "# Mostrar quais minimo_noites diferentes existem e quantas vezes se repetem\n",
    "print(\"Detalhamento:\\n\", diferentes)"
   ]
  },
  {
   "cell_type": "markdown",
   "metadata": {},
   "source": [
    "A distribuição de minimo_noites parece desbalanceada, com muitos valores baixos, mas também alguns números extremamente altos. Isso pode indicar outliers ou registros anormais, que serão analisados e tratados durante a AED."
   ]
  },
  {
   "cell_type": "markdown",
   "metadata": {},
   "source": [
    "##### Coluna: numero_de_reviews"
   ]
  },
  {
   "cell_type": "markdown",
   "metadata": {},
   "source": [
    "Conforme visualizado anteriormente, as informações para a coluna numero_de_reviews:\n",
    "- Não há valores nulos na coluna numero_de_reviews.\n",
    "- Não há valores negativos.\n",
    "- Tem o tipo int64.\n",
    "\n",
    "Procedimentos:\n",
    "- Analisar valores improváveis"
   ]
  },
  {
   "cell_type": "markdown",
   "metadata": {},
   "source": [
    "###### Analisando valores improváveis"
   ]
  },
  {
   "cell_type": "code",
   "execution_count": 40,
   "metadata": {},
   "outputs": [
    {
     "name": "stdout",
     "output_type": "stream",
     "text": [
      "Existem 394 numero_de_reviews que aparecem pelo menos uma vez\n"
     ]
    }
   ],
   "source": [
    "# Calcular a quantidade de numero_de_reviews diferentes\n",
    "diferentes = df['numero_de_reviews'].value_counts()[df['numero_de_reviews'].value_counts() >= 1].sort_index()\n",
    "print(f\"Existem {len(diferentes)} numero_de_reviews que aparecem pelo menos uma vez\")"
   ]
  },
  {
   "cell_type": "code",
   "execution_count": 41,
   "metadata": {},
   "outputs": [
    {
     "name": "stdout",
     "output_type": "stream",
     "text": [
      "Detalhamento:\n",
      " 0      10052\n",
      "1       5244\n",
      "2       3465\n",
      "3       2520\n",
      "4       1994\n",
      "       ...  \n",
      "576        1\n",
      "594        1\n",
      "597        1\n",
      "607        1\n",
      "629        1\n",
      "Name: numero_de_reviews, Length: 394, dtype: int64\n"
     ]
    }
   ],
   "source": [
    "# Mostrar quais numero_de_reviews diferentes existem e quantas vezes se repetem\n",
    "print(\"Detalhamento:\\n\", diferentes)"
   ]
  },
  {
   "cell_type": "markdown",
   "metadata": {},
   "source": [
    "A coluna numero_de_reviews indica quantas avaliações cada anúncio recebeu. Valores zero significam que o anúncio nunca foi avaliado, o que pode sugerir que ele é novo, pouco popular ou que não teve reservas. Já um número alto de avaliações pode indicar um anúncio que ficou muito tempo ativo e é popular. Durante a AED, essas informações serão cruzadas com outros fatores, como preço e tempo de publicação, para entender melhor o comportamento dos anúncios."
   ]
  },
  {
   "cell_type": "markdown",
   "metadata": {},
   "source": [
    "##### Coluna: ultima_review"
   ]
  },
  {
   "cell_type": "markdown",
   "metadata": {},
   "source": [
    "Conforme visualizado anteriormente, as informações para a coluna ultima_review:\n",
    "- Contém a data da última revisão dada à listagem\n",
    "- Há 10042 valores nulos em ultima_review (10052 segundo a análise preliminar menos as 10 linhas excluídas de anúncios com nome nulo E reviews nulos ).\n",
    "- Não há valores negativos.\n",
    "- Tem o tipo object.\n",
    "\n",
    "Procedimentos:\n",
    "- Converter o tipo para datetime64\n",
    "- Verificar consistência ((0 = reviews) = (ultima_review = null) = (reviews_por_mes = null)\n",
    "- Analisar períodos mínimos e máximos"
   ]
  },
  {
   "cell_type": "markdown",
   "metadata": {},
   "source": [
    "###### Convertendo o tipo para datetime64"
   ]
  },
  {
   "cell_type": "code",
   "execution_count": 59,
   "metadata": {},
   "outputs": [],
   "source": [
    "# Converter ultima_review para datetime64\n",
    "dataset['ultima_review'] = pd.to_datetime(dataset['ultima_review'], format='%Y-%m-%d')"
   ]
  },
  {
   "cell_type": "code",
   "execution_count": 60,
   "metadata": {},
   "outputs": [
    {
     "name": "stdout",
     "output_type": "stream",
     "text": [
      "0   2019-05-21\n",
      "1          NaT\n",
      "2   2019-07-05\n",
      "3   2018-11-19\n",
      "4   2019-06-22\n",
      "Name: ultima_review, dtype: datetime64[ns]\n"
     ]
    }
   ],
   "source": [
    "# Verificar o tipo da coluna\n",
    "print(dataset['ultima_review'].head())"
   ]
  },
  {
   "cell_type": "markdown",
   "metadata": {},
   "source": [
    "O tipo dos dados da coluna foi convertido para o formato datetime64[D] para trabalhar apenas com datas (ano/mês/dia). O formato foi escolhido por ser padronizado internacionalmente, mantendo os valores nulos como NaT para permitir análises temporais confiáveis."
   ]
  },
  {
   "cell_type": "markdown",
   "metadata": {},
   "source": [
    "###### Analisando consistência"
   ]
  },
  {
   "cell_type": "markdown",
   "metadata": {},
   "source": [
    "A existência de 10042 valores nulos em ultima_review e 10042 valores nulos em reviews_por_mes sugere que um anúncio com 0 reviews tem nulo ultimo_review e nulo reviews_por_mes. Essa hipótese será testada aqui."
   ]
  },
  {
   "cell_type": "code",
   "execution_count": 61,
   "metadata": {},
   "outputs": [
    {
     "name": "stdout",
     "output_type": "stream",
     "text": [
      "10042\n",
      "10042\n"
     ]
    }
   ],
   "source": [
    "# Verificar se registros com 0 reviews têm nulos em ultima_review e reviews_por_mes\n",
    "print(dataset[dataset['numero_de_reviews'] == 0][['ultima_review', 'reviews_por_mes']].isnull().all(1).sum())\n",
    "\n",
    "# Verificar total de registros com 0 reviews\n",
    "print(dataset[dataset['numero_de_reviews'] == 0].shape[0])"
   ]
  },
  {
   "cell_type": "markdown",
   "metadata": {},
   "source": [
    "A consistência dos dados é confirmada ao observarmos que o número de registros com zero reviews corresponde exatamente à quantidade de entradas onde tanto última_review quanto reviews_por_mes são nulos. Isso valida a hipótese e demonstra a integridade da base de dados."
   ]
  },
  {
   "cell_type": "markdown",
   "metadata": {},
   "source": [
    "###### Verificando as datas mínimas e máximas"
   ]
  },
  {
   "cell_type": "code",
   "execution_count": 62,
   "metadata": {},
   "outputs": [
    {
     "name": "stdout",
     "output_type": "stream",
     "text": [
      "Data mínima: 2011-03-28 00:00:00\n",
      "Data máxima: 2019-07-08 00:00:00\n"
     ]
    }
   ],
   "source": [
    "# Verificar data mínima e máxima\n",
    "print(\"Data mínima:\", dataset['ultima_review'].min())\n",
    "print(\"Data máxima:\", dataset['ultima_review'].max())"
   ]
  },
  {
   "cell_type": "markdown",
   "metadata": {},
   "source": [
    "O intervalo de tempo de última review que a base de dados é entre 2019/07/08 e 2011/03/28. Na AED será realizado a investigação do tempo que os dados abrangem, para uma visão mais apropriada dos dados."
   ]
  },
  {
   "cell_type": "code",
   "execution_count": 63,
   "metadata": {},
   "outputs": [
    {
     "name": "stdout",
     "output_type": "stream",
     "text": [
      "Existem 1764 ultima_review que aparecem pelo menos uma vez\n"
     ]
    }
   ],
   "source": [
    "# Calcular a quantidade de ultima_review diferentes\n",
    "diferentes = dataset['ultima_review'].value_counts()[dataset['ultima_review'].value_counts() >= 1].sort_index()\n",
    "print(f\"Existem {len(diferentes)} ultima_review que aparecem pelo menos uma vez\")"
   ]
  },
  {
   "cell_type": "code",
   "execution_count": 64,
   "metadata": {},
   "outputs": [
    {
     "name": "stdout",
     "output_type": "stream",
     "text": [
      "Detalhamento:\n",
      " 2011-03-28      1\n",
      "2011-04-25      1\n",
      "2011-05-12      1\n",
      "2011-09-18      1\n",
      "2011-09-19      1\n",
      "             ... \n",
      "2019-07-04    330\n",
      "2019-07-05    580\n",
      "2019-07-06    565\n",
      "2019-07-07    718\n",
      "2019-07-08     89\n",
      "Name: ultima_review, Length: 1764, dtype: int64\n"
     ]
    }
   ],
   "source": [
    "# Mostrar quais ultima_review diferentes existem e quantas vezes se repetem\n",
    "print(\"Detalhamento:\\n\", diferentes)"
   ]
  },
  {
   "cell_type": "code",
   "execution_count": null,
   "metadata": {},
   "outputs": [],
   "source": [
    "A concentração de datas mais perto da data máxima, sugerem que a data máxima foi o último dia que o dataset abrange."
   ]
  },
  {
   "cell_type": "markdown",
   "metadata": {},
   "source": [
    "##### Coluna: reviews_por_mes"
   ]
  },
  {
   "cell_type": "code",
   "execution_count": null,
   "metadata": {},
   "outputs": [],
   "source": [
    "Conforme visualizado anteriormente, as informações para a coluna reviews_por_mes:\n",
    "- Contém o número de avaliações fornecidas por mês\n",
    "- Há 10042 valores nulos em ultima_review (10052 segundo a análise preliminar menos as 10 linhas excluídas de anúncios com nome nulo E reviews nulos ).\n",
    "- Não há valores negativos.\n",
    "- Tem o tipo float64.\n",
    "- Consistência verificada na sessão anterior\n",
    "\n",
    "Procedimentos:\n",
    "- Análise preliminar"
   ]
  },
  {
   "cell_type": "markdown",
   "metadata": {},
   "source": [
    "###### Analisando preliminarmente"
   ]
  },
  {
   "cell_type": "markdown",
   "metadata": {},
   "source": [
    "O dado reviews_por_mês sugere a razão entre numero_de_reviews dividido pelo número de meses em que o anúncio está ativo. Isso permite inferir calcular lacunas de dados dos anúncios, como quando o anúncio foi criado. Cruzando isso com dados da ultima_review, é possível descobrir quanto tempo aquele anúncio foi relevante e estava ativo, por exemplo. Isso será explorado mais profundamente no AED. "
   ]
  },
  {
   "cell_type": "markdown",
   "metadata": {
    "jp-MarkdownHeadingCollapsed": true
   },
   "source": [
    "##### Coluna: calculado_host_listings_count"
   ]
  },
  {
   "cell_type": "code",
   "execution_count": null,
   "metadata": {},
   "outputs": [],
   "source": [
    "Conforme visualizado anteriormente, as informações para a coluna calculado_host_listings_count:\n",
    "- Contém a quantidade de listagem por host\n",
    "- Não há valores negativos.\n",
    "- Tem o tipo int.\n",
    "\n",
    "Procedimentos:\n",
    "- Analisar inconsistências"
   ]
  },
  {
   "cell_type": "markdown",
   "metadata": {},
   "source": [
    "###### Analisando inconsistências"
   ]
  },
  {
   "cell_type": "code",
   "execution_count": 114,
   "metadata": {},
   "outputs": [
    {
     "name": "stdout",
     "output_type": "stream",
     "text": [
      "Existe host com mais de um calculado_host_listings_count diferente? False\n"
     ]
    }
   ],
   "source": [
    "# Conferir se o número de anúncios por host é válido\n",
    "tem_inconsistencia = (df.groupby('host_id')['calculado_host_listings_count'].nunique() > 1).any()\n",
    "print(f\"Existe host com mais de um calculado_host_listings_count diferente? {tem_inconsistencia}\")"
   ]
  },
  {
   "cell_type": "code",
   "execution_count": null,
   "metadata": {},
   "outputs": [],
   "source": [
    "Em cada anúncio de um mesmo host só existe o mesmo número de calculado_host_listings_count, o que indica consistência do dado"
   ]
  },
  {
   "cell_type": "code",
   "execution_count": 124,
   "metadata": {},
   "outputs": [
    {
     "name": "stdout",
     "output_type": "stream",
     "text": [
      "Soma total de calculado_host_listings_count (uma vez por host): 48885\n",
      "Total de linhas de dataset 48884\n"
     ]
    }
   ],
   "source": [
    "# Conferir se o número de anúncios por host correspondem ao número de anuncios em dataset\n",
    "soma_calculada = dataset[['host_id', 'calculado_host_listings_count']].drop_duplicates()['calculado_host_listings_count'].sum()\n",
    "print(f\"Soma total de calculado_host_listings_count em dataset (uma vez por host): {soma_calculada}\")\n",
    "print(\"Total de linhas de dataset\",len(dataset))"
   ]
  },
  {
   "cell_type": "code",
   "execution_count": 126,
   "metadata": {},
   "outputs": [
    {
     "name": "stdout",
     "output_type": "stream",
     "text": [
      "Soma total de calculado_host_listings_count (uma vez por host): 48895\n",
      "Total de linhas de df 48894\n"
     ]
    }
   ],
   "source": [
    "# Conferir se o número de anúncios por host correspondem ao número de anuncios em dataset\n",
    "soma_calculada = df[['host_id', 'calculado_host_listings_count']].drop_duplicates()['calculado_host_listings_count'].sum()\n",
    "print(f\"Soma total de calculado_host_listings_count em df (uma vez por host): {soma_calculada}\")\n",
    "print(\"Total de linhas de df\",len(df))"
   ]
  },
  {
   "cell_type": "markdown",
   "metadata": {},
   "source": [
    "Identifiquei a existência de uma inconsistência tanto no arquivo original quanto no dataset modificado. A soma dos números de calculado_host_listings_count de cada host excedem "
   ]
  },
  {
   "cell_type": "code",
   "execution_count": 150,
   "metadata": {},
   "outputs": [
    {
     "name": "stdout",
     "output_type": "stream",
     "text": [
      "        calculado_host_listings_count     \n",
      "                            declarado real\n",
      "host_id                                   \n",
      "2787                                6    5\n"
     ]
    }
   ],
   "source": [
    "# Comparar para todos os host_id, se o valor de calculado_host_listings_count é a mesma quantidade de vezes que aparecem\n",
    "host_checagem = df.groupby('host_id').agg({'calculado_host_listings_count': ['first', 'count']}).rename(columns={'first': 'declarado', 'count': 'real'})\n",
    "incorretos = host_checagem[host_checagem['calculado_host_listings_count']['declarado'] != host_checagem['calculado_host_listings_count']['real']]\n",
    "# Mostrar qual é o host_id inconsistente\n",
    "print(incorretos)"
   ]
  },
  {
   "cell_type": "markdown",
   "metadata": {},
   "source": [
    "Foi encontrado o host_id com informação errada. Essa inconsistência provavelmente ocorreu porque um dos anúncios deste host foi removido da plataforma, mas o campo calculado_host_listings_count não foi atualizado antes da exportação dos dados. Abaixo o dado será atualizado."
   ]
  },
  {
   "cell_type": "code",
   "execution_count": 151,
   "metadata": {},
   "outputs": [],
   "source": [
    "dataset.loc[dataset['host_id'] == 2787, 'calculado_host_listings_count'] = 5"
   ]
  },
  {
   "cell_type": "code",
   "execution_count": 153,
   "metadata": {},
   "outputs": [
    {
     "name": "stdout",
     "output_type": "stream",
     "text": [
      "Soma total de calculado_host_listings_count em dataset (uma vez por host): 48884\n"
     ]
    }
   ],
   "source": [
    "# Conferir se o número de anúncios por host correspondem ao número de anuncios em dataset\n",
    "soma_calculada = dataset[['host_id', 'calculado_host_listings_count']].drop_duplicates()['calculado_host_listings_count'].sum()\n",
    "print(f\"Soma total de calculado_host_listings_count em dataset (uma vez por host): {soma_calculada}\")"
   ]
  },
  {
   "cell_type": "code",
   "execution_count": null,
   "metadata": {},
   "outputs": [],
   "source": [
    "Agora sim o resultado é o esperado!"
   ]
  },
  {
   "cell_type": "code",
   "execution_count": 93,
   "metadata": {},
   "outputs": [
    {
     "name": "stdout",
     "output_type": "stream",
     "text": [
      "Detalhamento:\n",
      " 1      32295\n",
      "2       6657\n",
      "3       2853\n",
      "4       1440\n",
      "5        844\n",
      "6        569\n",
      "7        399\n",
      "8        416\n",
      "9        234\n",
      "10       210\n",
      "11       110\n",
      "12       180\n",
      "13       130\n",
      "14        70\n",
      "15        75\n",
      "16        16\n",
      "17        68\n",
      "18        54\n",
      "19        19\n",
      "20        40\n",
      "21        21\n",
      "23        69\n",
      "25        50\n",
      "26        26\n",
      "27        27\n",
      "28        56\n",
      "29        29\n",
      "30        30\n",
      "31        62\n",
      "32        32\n",
      "33        99\n",
      "34        68\n",
      "37        37\n",
      "39        39\n",
      "43        43\n",
      "47        47\n",
      "49        98\n",
      "50        50\n",
      "52       104\n",
      "65        65\n",
      "87        87\n",
      "91        91\n",
      "96       192\n",
      "103      103\n",
      "121      121\n",
      "232      232\n",
      "327      327\n",
      "Name: calculado_host_listings_count, dtype: int64\n"
     ]
    }
   ],
   "source": [
    "# Mostrar quais ultima_review diferentes existem e quantas vezes se repetem\n",
    "print(\"Detalhamento:\\n\", diferentes)"
   ]
  },
  {
   "cell_type": "code",
   "execution_count": 98,
   "metadata": {},
   "outputs": [
    {
     "name": "stdout",
     "output_type": "stream",
     "text": [
      "Soma total: 349284\n"
     ]
    }
   ],
   "source": [
    "dados = pd.Series({\n",
    "    1: 32295, 2: 6657, 3: 2853, 4: 1440, 5: 844, 6: 569, 7: 399, 8: 416, \n",
    "    9: 234, 10: 210, 11: 110, 12: 180, 13: 130, 14: 70, 15: 75, 16: 16, \n",
    "    17: 68, 18: 54, 19: 19, 20: 40, 21: 21, 23: 69, 25: 50, 26: 26, 27: 27, \n",
    "    28: 56, 29: 29, 30: 30, 31: 62, 32: 32, 33: 99, 34: 68, 37: 37, 39: 39, \n",
    "    43: 43, 47: 47, 49: 98, 50: 50, 52: 104, 65: 65, 87: 87, 91: 91, 96: 192, \n",
    "    103: 103, 121: 121, 232: 232, 327: 327\n",
    "})\n",
    "\n",
    "soma = sum(index * value for index, value in dados.items())\n",
    "print(f\"Soma total: {soma}\")"
   ]
  },
  {
   "cell_type": "markdown",
   "metadata": {},
   "source": [
    "##### Coluna: disponibilidade_365"
   ]
  },
  {
   "cell_type": "code",
   "execution_count": null,
   "metadata": {},
   "outputs": [],
   "source": [
    "Conforme visualizado anteriormente, as informações para a coluna disponibilidade_365:\n",
    "- Contém o número de dias em que o anúncio está disponível para reserva\n",
    "- Não há valores negativos.\n",
    "- Tem o tipo int64.\n",
    "- Min e Max dentro do esperado (0 e 365)\n",
    "\n",
    "Procedimentos:\n",
    "- Análise preliminar"
   ]
  },
  {
   "cell_type": "markdown",
   "metadata": {},
   "source": [
    "###### Analisando preliminarmente"
   ]
  },
  {
   "cell_type": "markdown",
   "metadata": {},
   "source": [
    "A coluna tem valores esperados, não indicando nenhuma necessidade de correção. A existência de valores 0, sugerem que o anúncio não está ativo. A existência de reviews em linhas com disponibilidade_365 = 0 sugerem que o anúncio não está ativo mas já esteve. Essa abordagem será aprofundada na AED a seguir."
   ]
  }
 ],
 "metadata": {
  "kernelspec": {
   "display_name": "Python 3 (ipykernel)",
   "language": "python",
   "name": "python3"
  },
  "language_info": {
   "codemirror_mode": {
    "name": "ipython",
    "version": 3
   },
   "file_extension": ".py",
   "mimetype": "text/x-python",
   "name": "python",
   "nbconvert_exporter": "python",
   "pygments_lexer": "ipython3",
   "version": "3.8.20"
  }
 },
 "nbformat": 4,
 "nbformat_minor": 4
}
